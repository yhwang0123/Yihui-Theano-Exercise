{
 "cells": [
  {
   "cell_type": "markdown",
   "metadata": {},
   "source": [
    "# Pre-commit hooks\n",
    "![pre-commit cover](./assets/pre-commit.jpg)"
   ]
  },
  {
   "cell_type": "markdown",
   "metadata": {},
   "source": [
    "[Pre-commit](https://pre-commit.com/) is a framework to manage your hooks that will run each time before you will commit or push your code (depending on how you set it).\n",
    ".\n",
    "`pre-commit` itself will do nothing. It's just framework to automate commands and use other utilities.\n",
    "We're gonna see some handy tools that we will couple with `pre-commit`.\n",
    "\n",
    "## Modules that we will use\n",
    "\n",
    "### Black\n",
    "\n",
    "[black](https://pypi.org/project/black/) is a formatter for Python. It will format all your code following the PEP8 standard.\n",
    "\n",
    "### MyPy\n",
    "\n",
    "[MyPy](http://mypy-lang.org/) will check all your code to see if there are any typing issues.\n",
    "\n",
    "### Flake8\n",
    "\n",
    "[Flake8](https://medium.com/python-pandemonium/what-is-flake8-and-why-we-should-use-it-b89bd78073f2) will check if you forgot to add  docstrings to your functions  and classes, if you use the correct cases in your variables/functions/classes, if you forgot to import a module that you're using, if there are unused import,...\n",
    "`flake8`  is in fact a wrapper of the following tools in one command:\n",
    "* PyFlakes\n",
    "* pycodestyle\n",
    "* Ned Batchelder’s McCabe script\n",
    "\n",
    "### Isort\n",
    "\n",
    "[Isort](https://pypi.org/project/isort/) is an utility that will sort your imports in a way that makes sense and  that is optimized.\n",
    "\n",
    "### And so much more\n",
    "\n",
    "But that's not all! You can find a lot of other modules or even create your own!\n",
    "You can for example add a step to check if there are no files bigger than X or if the branch name respects a convention,...\n",
    "\n",
    "\n",
    "## Why use these tools?\n",
    "\n",
    "It will  make you and  your colleagues gain a lot of time during code review and I recommend you to run it before launching all your tests. It will avoid you to run tests that take a while to run, to discover that during the last test, you forgot an import in a file. Or simply improve you code's speed because you're sure that you import no modules that you don't use. The code formatting will also improve the readability of your code a lot and that's something that you can totally forget when focusing on the most import thing: fixing your business problem. Indeed, sometimes you can overlook that you forgot to type all the functions or add a space after a parenthesis. "
   ]
  },
  {
   "cell_type": "markdown",
   "metadata": {},
   "source": [
    "## How does it work?\n",
    "1. **Installation and dependencies**\n",
    "\n",
    "First, we will need to install `pre-commit` from the terminal. You can use `pip` to do it.\n",
    "\n",
    "```bash\n",
    "pip install pre-commit\n",
    "```\n",
    "\n",
    "You will also need to install all the modules that we want to use. \n",
    "\n",
    "```bash\n",
    "pip install black mypy isort flake8\n",
    "```\n",
    "\n",
    "2. **Configuration**\n",
    "\n",
    "Now we will define the behavior of `pre-commit`. To do so, we need to create a `.yaml` file and specify what we want to use.\n",
    "The file should be named `.pre-commit-config.yaml`. \n",
    "\n",
    "A basic configuration for what we want will be:\n",
    "\n",
    "```yaml\n",
    "repos:\n",
    "-   repo: local\n",
    "    hooks:\n",
    "    - id: isort\n",
    "      name: isort\n",
    "      description: 'Sort imports'\n",
    "      entry: isort\n",
    "      language: system\n",
    "      types: [python]\n",
    "      # We defined that we want to run this step when we try to commit.\n",
    "      # If you want to apply it before push juste replace commit with push.\n",
    "      stages: [commit]\n",
    "      # Add all the arguments you want to the Isort command here\n",
    "      # Make sure to make it compatible with black\n",
    "      args: \n",
    "        - -rc\n",
    "        - --lines=120\n",
    "        - --use-parentheses\n",
    "        - --multi-line=3\n",
    "    - id: black\n",
    "      name: black\n",
    "      language: system\n",
    "      description: 'Format code'\n",
    "      entry: black\n",
    "      types: [python]\n",
    "      args:\n",
    "        - --line-length=122\n",
    "    - id: flake8\n",
    "      name: flake8\n",
    "      description: 'Check logic issues'\n",
    "      language: system\n",
    "      entry: flake8\n",
    "      types: [python]\n",
    " \n",
    "    - id: mypy\n",
    "      name: mypy\n",
    "      description: 'Check typing'\n",
    "      language: system\n",
    "      entry: mypy\n",
    "      types: [python]\n",
    "```"
   ]
  },
  {
   "cell_type": "markdown",
   "metadata": {},
   "source": [
    "## Demo\n",
    "Everything is ready, let's see it working in action now!\n",
    "\n",
    "To demonstrate how, I prepared some files that contain some errors and we will see how to fix them.\n",
    "\n",
    "**WARNING:** As these modules are gonna fix the issues, you will not be able to re-run this notebook and see the errors again."
   ]
  },
  {
   "cell_type": "markdown",
   "metadata": {},
   "source": [
    "### Black\n",
    "![black logo](./assets/black.jpg)\n",
    "The file `bad_formating.py` was written by a programmer that was super hungry. So he didn't take the time to properly format his code. Let's have a look:"
   ]
  },
  {
   "cell_type": "code",
   "execution_count": null,
   "metadata": {},
   "outputs": [],
   "source": [
    "!cat code/bad_formating.py"
   ]
  },
  {
   "cell_type": "markdown",
   "metadata": {},
   "source": [
    "Ugly right? Even if it's really badly formatted, the code runs:"
   ]
  },
  {
   "cell_type": "code",
   "execution_count": null,
   "metadata": {},
   "outputs": [],
   "source": [
    "!python3 code/bad_formating.py"
   ]
  },
  {
   "cell_type": "markdown",
   "metadata": {},
   "source": [
    "If you're curious and you want to see how `black` will reformat a file before writing your can do (using the `--diff` flag):\n"
   ]
  },
  {
   "cell_type": "code",
   "execution_count": null,
   "metadata": {},
   "outputs": [],
   "source": [
    "!black --color --diff code/bad_formating.py"
   ]
  },
  {
   "cell_type": "markdown",
   "metadata": {},
   "source": [
    "Let's fix that before our eyes burn. We will use `black` directly from the terminal.\n",
    "Now that `black` is installed, you can simply use the `black` command followed by the path of the file/folder that you want to check. When we will  run the pre-commit hook it will run the command `black .` to format everything that is inside the current folder."
   ]
  },
  {
   "cell_type": "code",
   "execution_count": null,
   "metadata": {},
   "outputs": [],
   "source": [
    "!black code/bad_formating.py"
   ]
  },
  {
   "cell_type": "markdown",
   "metadata": {},
   "source": [
    "Black reformatted the file. Let's see how it saved the day:"
   ]
  },
  {
   "cell_type": "code",
   "execution_count": null,
   "metadata": {},
   "outputs": [],
   "source": [
    "!cat ./code/bad_formating.py"
   ]
  },
  {
   "cell_type": "markdown",
   "metadata": {},
   "source": [
    "As we can see, everything is well formatted now."
   ]
  },
  {
   "cell_type": "markdown",
   "metadata": {},
   "source": [
    "### MyPy\n",
    "![mypy logo](./assets/mypy.png)\n",
    "\n",
    "The file `missing_annotation.py` was written by the new intern of the company. He **ALWAYS** forgets to add typing in **EACH** pull request.\n",
    "You're more then tired to copy paste \"Please add typing here.\". You also see that he often forgets to add returns in case his conditions aren't true. Let's check this guy's code:"
   ]
  },
  {
   "cell_type": "code",
   "execution_count": null,
   "metadata": {},
   "outputs": [],
   "source": [
    "!cat ./code/missing_annotation.py"
   ]
  },
  {
   "cell_type": "markdown",
   "metadata": {},
   "source": [
    "To help him fix these issues without needing to use your C and V keys where the paint is already fainting, you make him run `mypy`:"
   ]
  },
  {
   "cell_type": "code",
   "execution_count": null,
   "metadata": {},
   "outputs": [],
   "source": [
    "!mypy --strict ./code/missing_annotation.py"
   ]
  },
  {
   "cell_type": "markdown",
   "metadata": {},
   "source": [
    "Thanks to you he's now able to fix his code by himself. Let's see the improvements:"
   ]
  },
  {
   "cell_type": "code",
   "execution_count": null,
   "metadata": {},
   "outputs": [],
   "source": [
    "!cat ./code/fixed_annotation.py"
   ]
  },
  {
   "cell_type": "markdown",
   "metadata": {},
   "source": [
    "Looks better right? Let's see if there are still any issues with this code."
   ]
  },
  {
   "cell_type": "code",
   "execution_count": null,
   "metadata": {},
   "outputs": [],
   "source": [
    "!mypy --strict ./code/fixed_annotation.py"
   ]
  },
  {
   "cell_type": "markdown",
   "metadata": {},
   "source": [
    "Perfect, you just won hours of PR review you can now focus on you own work!"
   ]
  },
  {
   "cell_type": "markdown",
   "metadata": {},
   "source": [
    "## Flake8\n",
    "\n",
    "You finaly take a well deserved week of vacation on a beautiful beach. When you come back to work, your PM tells you that during your rest, they refactored the whole codebase of your project. You suspiciously run your performance tests and you find that the code is way slower than it should. You  also see that a lot of your unit-test are failing.\n",
    "\n",
    "You just came back and you don't want to spend hours on code review. So the first thing you will do is run `flake8`. During this time you grab a coffee, ready to fight this code! It won't fix the issues for you but at least you know where to start.\n",
    "\n",
    "Let's have a look at the code:"
   ]
  },
  {
   "cell_type": "code",
   "execution_count": null,
   "metadata": {},
   "outputs": [],
   "source": [
    "!cat ./code/refactored_code.py"
   ]
  },
  {
   "cell_type": "markdown",
   "metadata": {},
   "source": [
    "Let's see how many issues `mypy` can find!"
   ]
  },
  {
   "cell_type": "code",
   "execution_count": null,
   "metadata": {},
   "outputs": [],
   "source": [
    "!mypy ./code/refactored_code.py"
   ]
  },
  {
   "cell_type": "markdown",
   "metadata": {},
   "source": [
    "Your coffee is ready, it's been more than a week since you touched a keyboard, you fix the code is easily thanks to `mypy`."
   ]
  },
  {
   "cell_type": "code",
   "execution_count": null,
   "metadata": {},
   "outputs": [],
   "source": [
    "!cat ./code/refactored_refactored_code.py"
   ]
  },
  {
   "cell_type": "code",
   "execution_count": null,
   "metadata": {},
   "outputs": [],
   "source": [
    "!mypy ./code/refactored_refactored_code.py"
   ]
  },
  {
   "cell_type": "markdown",
   "metadata": {},
   "source": [
    "Nothing to add, you're simply the best. You haven't had time to finish your cup of coffee that you're code is running again."
   ]
  },
  {
   "cell_type": "markdown",
   "metadata": {},
   "source": [
    "##  Isort\n",
    "![isort logo](./assets/isort.jpg)\n",
    "\n",
    "You work on a project that has lots of imports and it's not really readable. When you have to find a function that is imported from your own files, it's hard to find... Let's order that!"
   ]
  },
  {
   "cell_type": "code",
   "execution_count": null,
   "metadata": {},
   "outputs": [],
   "source": [
    "!cat ./code/unsorted_import.py"
   ]
  },
  {
   "cell_type": "code",
   "execution_count": null,
   "metadata": {},
   "outputs": [],
   "source": [
    "!isort ./code/unsorted_import.py"
   ]
  },
  {
   "cell_type": "code",
   "execution_count": null,
   "metadata": {},
   "outputs": [],
   "source": [
    "!cat ./code/unsorted_import.py"
   ]
  },
  {
   "cell_type": "markdown",
   "metadata": {},
   "source": [
    "## All in one\n",
    "\n",
    "Perfect! But that is a lot to do manually, isn't it? That's where `pre-commit` hooks are gonna save us a **lot** of time!\n",
    "\n",
    "We defined that we wanted to use all the previous tools and how we want to use them in our `.pre-commit-config.yaml` file. So you just have to run the command: `pre-commit run --all` in order to run all those tools on the complete current folder. Or, you can run `pre-commit run --files <your_files>` to only run it on certain files."
   ]
  },
  {
   "cell_type": "code",
   "execution_count": null,
   "metadata": {},
   "outputs": [],
   "source": [
    "!pre-commit run --files ./code/fixed_annotation.py"
   ]
  },
  {
   "cell_type": "markdown",
   "metadata": {},
   "source": [
    "Everything is fine, the commit or the push can be done safely. Let's see if something is wrong:"
   ]
  },
  {
   "cell_type": "code",
   "execution_count": null,
   "metadata": {},
   "outputs": [],
   "source": [
    "!pre-commit run --files ./code/refactored_code.py"
   ]
  },
  {
   "cell_type": "markdown",
   "metadata": {},
   "source": [
    "## Automatize the process\n",
    "\n",
    "If we don't want to run it each time before committing, we can simply install it and it will run on each commit or push depending on the configuration. If everything passes, the commit/push will be done. If there are issues, it will be canceled. You can of course change everything depending on your needs. Only apply it on merge, add or remove modules,...\n",
    "\n",
    "## Your turn!\n",
    "\n",
    "Alright, you have all the keys in hand to have a cleaner code and to lose less time!"
   ]
  },
  {
   "cell_type": "markdown",
   "metadata": {},
   "source": [
    "![gif about time](./assets/time.gif \"segment\")"
   ]
  }
 ],
 "metadata": {
  "kernelspec": {
   "display_name": "Python 3",
   "language": "python",
   "name": "python3"
  },
  "language_info": {
   "codemirror_mode": {
    "name": "ipython"
   },
   "file_extension": ".py",
   "mimetype": "text/x-python",
   "name": "python",
   "nbconvert_exporter": "python"
  }
 },
 "nbformat": 4,
 "nbformat_minor": 4
}
