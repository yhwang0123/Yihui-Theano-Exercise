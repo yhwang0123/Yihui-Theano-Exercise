{
 "cells": [
  {
   "cell_type": "markdown",
   "metadata": {},
   "source": [
    "# Drills - unit testing\n",
    "Now that you have the basics, let's do some drills!\n",
    "\n",
    "Create a unittest for each of these functions."
   ]
  },
  {
   "cell_type": "markdown",
   "metadata": {},
   "source": [
    "## Custom exception\n",
    "We define here some custom exception."
   ]
  },
  {
   "cell_type": "code",
   "execution_count": null,
   "metadata": {},
   "outputs": [],
   "source": [
    "class InvalidArgumentException(Exception):\n",
    "    \"\"\"Raised when a param is invalid.\"\"\"\n",
    "\n",
    "    pass"
   ]
  },
  {
   "cell_type": "markdown",
   "metadata": {},
   "source": [
    "## Addition\n",
    "Check the result for those arguments:\n",
    "* `[1, 1]`\n",
    "* `[2, 3]`\n",
    "* `[5, 2]`\n",
    "* `[20, 4]`\n",
    "* `[0, 200]`\n",
    "* `[2999, 231234]`\n",
    "* `[0, 0]`\n",
    "\n",
    "In addition, create a test that checks that `InvalidArgumentException` is raised correctly if you give something else than an `int` to the function.\n",
    "Check for: `string, float, dict, list`"
   ]
  },
  {
   "cell_type": "code",
   "execution_count": null,
   "metadata": {},
   "outputs": [],
   "source": [
    "def addition(number_one: int, number_two: int) -> int:\n",
    "    if not isinstance(number_one, int) or not isinstance(number_two, int):\n",
    "        raise InvalidArgumentException(\"A parameter is not an int!\")\n",
    "    return number_one + number_two"
   ]
  },
  {
   "cell_type": "code",
   "execution_count": null,
   "metadata": {},
   "outputs": [],
   "source": [
    "# Add your unit test here"
   ]
  },
  {
   "cell_type": "markdown",
   "metadata": {},
   "source": [
    "## Subtraction\n",
    "\n",
    "Check the result for those arguments:\n",
    "* `[1, 1]`\n",
    "* `[2, 3]`\n",
    "* `[5, 2]`\n",
    "* `[20, 4]`\n",
    "* `[0, 200]`\n",
    "* `[2999, 231234]`\n",
    "* `[0, 0]`\n",
    "\n",
    "In addition, create a test that checks that `InvalidArgumentException` is raised correctly if you give something else than an `int` to the function. Check for: string, float, dict, list."
   ]
  },
  {
   "cell_type": "code",
   "execution_count": null,
   "metadata": {},
   "outputs": [],
   "source": [
    "def substraction(number_one: int, number_two: int) -> int:\n",
    "    if not isinstance(number_one, int) or not isinstance(number_two, int):\n",
    "        raise InvalidArgumentException(\"A param is not an int!\")\n",
    "    return number_one - number_two"
   ]
  },
  {
   "cell_type": "code",
   "execution_count": null,
   "metadata": {},
   "outputs": [],
   "source": [
    "# Add your unit test here"
   ]
  },
  {
   "cell_type": "markdown",
   "metadata": {},
   "source": [
    "## Divide\n",
    "Here is a function that returns a float and can take a float or an int as parameter.\n",
    "\n",
    "Create a test that will check the result of those arguments:\n",
    "* `[1, 1]`\n",
    "* `[2, 3]`\n",
    "* `[5, 2]`\n",
    "* `[20, 4]`\n",
    "* `[0, 200]`\n",
    "* `[2999, 231234]`\n",
    "* `[0, 0]`\n",
    "* `[5, 0]`\n",
    "* `[5, \"9\"]`\n",
    "* `[5, [1, 2]]`\n",
    "* `[2, {\"param2\": 2}]`\n",
    "\n",
    "For each parameter, check that the result is the expected type (a string if one the arguments is bad, otherwise a float)."
   ]
  },
  {
   "cell_type": "code",
   "execution_count": null,
   "metadata": {},
   "outputs": [],
   "source": [
    "from typing import Union\n",
    "\n",
    "\n",
    "def divide(\n",
    "    number_one: Union[int, float], number_two: Union[int, float]\n",
    ") -> Union[float, str]:\n",
    "    try:\n",
    "        result = number_one / number_two\n",
    "    except ZeroDivisionError:\n",
    "        result = \"You can't divide by zero!\"\n",
    "    except Exception as ex:\n",
    "        result = f\"An argument is not an int or a float! -> {ex}\"\n",
    "\n",
    "    return result"
   ]
  },
  {
   "cell_type": "code",
   "execution_count": null,
   "metadata": {},
   "outputs": [],
   "source": [
    "# Add your unit test here"
   ]
  },
  {
   "cell_type": "markdown",
   "metadata": {},
   "source": [
    "## File handling\n",
    "\n",
    "1. Create a function `create_and_delete_test_file()` that creates a new file named `test.txt`, adds `'this is a text'` in it then deletes the file.\n",
    "2. Create a test that checks if the file is well created.\n",
    "3. Create a test to check that the content of the file is `'this is a text'`. You will need to find a way to prevent the function to delete the file during this specific test.\n",
    "4. Create a test to check that the function deletes the file."
   ]
  },
  {
   "cell_type": "code",
   "execution_count": null,
   "metadata": {},
   "outputs": [],
   "source": [
    "# Create create_and_delete_test_file()\n",
    "def create_and_delete_test_file():\n",
    "    pass"
   ]
  },
  {
   "cell_type": "code",
   "execution_count": null,
   "metadata": {},
   "outputs": [],
   "source": [
    "# Add your unit test here"
   ]
  },
  {
   "cell_type": "markdown",
   "metadata": {},
   "source": [
    "You might have noticed that it is quite difficult to make the unit tests work for such a complicated function.\n",
    "How about separating the concern and creating separate functions for each particular action ?"
   ]
  },
  {
   "cell_type": "code",
   "execution_count": null,
   "metadata": {},
   "outputs": [],
   "source": []
  }
 ],
 "metadata": {
  "kernelspec": {
   "display_name": "Python 3",
   "language": "python",
   "name": "python3"
  },
  "language_info": {
   "codemirror_mode": {
    "name": "ipython"
   },
   "file_extension": ".py",
   "mimetype": "text/x-python",
   "name": "python",
   "nbconvert_exporter": "python"
  }
 },
 "nbformat": 4,
 "nbformat_minor": 4
}
