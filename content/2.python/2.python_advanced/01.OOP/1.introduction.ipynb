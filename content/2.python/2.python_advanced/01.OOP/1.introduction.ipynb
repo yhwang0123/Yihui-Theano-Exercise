{
 "cells": [
  {
   "cell_type": "markdown",
   "metadata": {},
   "source": [
    "# Introduction to object-oriented programming in python"
   ]
  },
  {
   "cell_type": "markdown",
   "metadata": {},
   "source": [
    "An object has a type which can be `str` for a String, `float` for a floating point number or `int` for a natural number.\n",
    "\n",
    "For example, below are numerical types and iterable object types."
   ]
  },
  {
   "cell_type": "code",
   "execution_count": null,
   "metadata": {},
   "outputs": [],
   "source": [
    "type(3), type(3.0), type(\"azerty\"), type([1, 2, 3]), type((3, 4, \"GGFD\")), type(\n",
    "    {\"boire\": \"avaler un liquide\"}\n",
    ")"
   ]
  },
  {
   "cell_type": "markdown",
   "metadata": {},
   "source": [
    "Or other object types."
   ]
  },
  {
   "cell_type": "code",
   "execution_count": null,
   "metadata": {},
   "outputs": [],
   "source": [
    "type(type), type(None), type(True)"
   ]
  },
  {
   "cell_type": "markdown",
   "metadata": {},
   "source": [
    "In practice, objects are variables that can themselves contain functions and variables.  The functions that are contained inside an object have a special name. They are called **methods**."
   ]
  },
  {
   "cell_type": "markdown",
   "metadata": {},
   "source": [
    "So far, we have only seen one technical aspect of the object. I would even say that what we have seen so far is only a \"slightly more aesthetic\" way of encoding: it is simpler and more understandable to write `my_list.append(5)` than `append_to_list(my_list, 5)` where `append_to_list()` would be a function that would add an element (`5` here) at the end of a list (`my_list` here).\n",
    "\n",
    "\n",
    "But behind Object-Oriented Programming, there is not only an aesthetic concern, far from it."
   ]
  },
  {
   "cell_type": "markdown",
   "metadata": {},
   "source": [
    "`append()` is therefore a method of the `list` class of which `my_list` is part of."
   ]
  },
  {
   "cell_type": "markdown",
   "metadata": {},
   "source": [
    "A class is a bit like a model according to which we will create objects. It is in the class that we will define our methods and attributes, the attributes being variables contained in our object.\n",
    "\n",
    "### Methods are functions defined in a class.\n"
   ]
  },
  {
   "cell_type": "markdown",
   "metadata": {},
   "source": [
    "### Example\n",
    "\n",
    "A class defines attributes and methods. \n",
    "\n",
    "For example, imagine a `Car` class that will be used to create objects that are cars. \n",
    "This class will be able to define a color attribute, a speed attribute, etc. These attributes correspond to properties that can exist for a car. \n",
    "\n",
    "The `Car` class can also define a `rolling()` method. A method, in a way, corresponds to an action, here the action of driving can be performed by a car. \n",
    "\n",
    "If we imagine an `Aircraft` class, it will be able to define a `fly()` method. It will also be able to define a `rolling()` method. \n",
    "\n",
    "On the other hand, the `Car` class will not have a `steal()` method because a car cannot steal. Similarly, the `Aircraft` class may have an `altitude` attribute but this will not be the case for the `Car` class."
   ]
  },
  {
   "cell_type": "markdown",
   "metadata": {},
   "source": [
    "### Let's create a car class:"
   ]
  },
  {
   "cell_type": "markdown",
   "metadata": {},
   "source": [
    "Our `Car` class is a kind of factory that creates cars.\n",
    "\n",
    "The `__init__()` method is called when creating an object. This is a special method, called a *constructor*, that is invariably called when you want to create an object from your class.\n",
    "\n",
    "In concrete terms, a constructor is a method of our object that is responsible for creating our attributes. In truth, it is even the method that will be called when we want to create our object."
   ]
  },
  {
   "cell_type": "code",
   "execution_count": null,
   "metadata": {},
   "outputs": [],
   "source": [
    "class Car:\n",
    "    def __init__(self):\n",
    "        self.name = \"Ferrari\""
   ]
  },
  {
   "cell_type": "markdown",
   "metadata": {},
   "source": [
    "In our class, we find the instantiation of our name attribute. We create a variable `name` and give it as value `\"Ferrari\"`.\n",
    "\n",
    "Remember, a class is a blueprint/factory and an object is the actual item. In this example, `class Car` is the blueprint of a car, and the `__init__(self)` method is the one that is going to be defining the attributes that any car will have.\n",
    "The `self` keyword refers to the object itself. So when we say `self.name = \"Ferrari\"`, we are saying that when constructing a new `Car` object, assign to the new object, designated by the `self` keyword, an attribute called `name` with the value `\"Ferrari\"`.\n",
    "\n",
    "An object is an instance of a class. You can create as many objects as you want with a class.\n",
    "\n",
    "Now let's create our car. Calling `Car()` will call the `__init__(self)` method in `Car`."
   ]
  },
  {
   "cell_type": "code",
   "execution_count": null,
   "metadata": {},
   "outputs": [],
   "source": [
    "# bombo is the name of my class instance. Class instance and object are synonyms.\n",
    "bombo = Car()"
   ]
  },
  {
   "cell_type": "code",
   "execution_count": null,
   "metadata": {},
   "outputs": [],
   "source": []
  },
  {
   "cell_type": "code",
   "execution_count": null,
   "metadata": {},
   "outputs": [],
   "source": [
    "# A car object\n",
    "type(bombo)"
   ]
  },
  {
   "cell_type": "code",
   "execution_count": null,
   "metadata": {},
   "outputs": [],
   "source": [
    "bombo.name"
   ]
  },
  {
   "cell_type": "code",
   "execution_count": null,
   "metadata": {},
   "outputs": [],
   "source": [
    "# You can create an attribute for your object at any time:\n",
    "bombo.model = \"250\""
   ]
  },
  {
   "cell_type": "code",
   "execution_count": null,
   "metadata": {},
   "outputs": [],
   "source": [
    "bombo.model"
   ]
  },
  {
   "cell_type": "markdown",
   "metadata": {},
   "source": [
    "\n",
    "### Let's create a new `Person` class "
   ]
  },
  {
   "cell_type": "markdown",
   "metadata": {},
   "source": [
    "We still have to make a slightly smarter manufacturer. For the moment, whatever the object created, it has the same name, i.e. for `Car` it was always `\"Ferrari\"`.\n",
    "\n",
    "Let's create this time, a person class with name, first name, age and place of residence. You can change them later, of course, but you can also make the constructor `(__init__(self))` take several parameters, let's say... the name and the first name, to start with."
   ]
  },
  {
   "cell_type": "code",
   "execution_count": null,
   "metadata": {},
   "outputs": [],
   "source": [
    "class Person:\n",
    "    \"\"\"Class defining a person characterized by :\n",
    "    - his name\n",
    "    - his first name\n",
    "    - his age\n",
    "    - his place of residence\"\"\"\n",
    "\n",
    "    def __init__(self, name, firstname):\n",
    "        \"\"\"Constructor our class\"\"\"\n",
    "        self.name = name\n",
    "        self.firstname = firstname\n",
    "        self.age = 34\n",
    "        self.place_residence = \"Brussels\""
   ]
  },
  {
   "cell_type": "code",
   "execution_count": null,
   "metadata": {},
   "outputs": [],
   "source": [
    "coach = Person(\"Patho\", \"Ludovic\")\n",
    "print(coach)"
   ]
  },
  {
   "cell_type": "markdown",
   "metadata": {},
   "source": [
    "Let's look at it in detail:\n",
    "\n",
    "First, the definition of the class. It consists of the keyword `class`, the name of the class and the famous column `:`.\n",
    "\n",
    "The definition of our manufacturer. As you can see, this is an almost \"classic\" definition of a function. Its name is `__init__`, it is invariable: in Python, all manufacturers are called that way. Method names surrounded on either side by two underscores (`__method_name__` for example) are special methods. Note that, in our method definition, we pass a first parameter called `self`.\n",
    "\n",
    "Remember that the first parameter must be `self`. Apart from that, a constructor is a rather classic function: you can define parameters, by default or not, named or not. When you want to create your object, you will call the name of the class by passing in brackets the parameters to use."
   ]
  },
  {
   "cell_type": "code",
   "execution_count": null,
   "metadata": {},
   "outputs": [],
   "source": [
    "(coach.name, coach.firstname, coach.age, coach.place_residence)"
   ]
  },
  {
   "cell_type": "code",
   "execution_count": null,
   "metadata": {},
   "outputs": [],
   "source": [
    "# His birthday? => 24/06/1984 // Don't forget to wish me Happy Birthday that day :)\n",
    "coach.birthday"
   ]
  },
  {
   "cell_type": "markdown",
   "metadata": {},
   "source": [
    "Create a new attribute, birthday, for this object"
   ]
  },
  {
   "cell_type": "code",
   "execution_count": null,
   "metadata": {},
   "outputs": [],
   "source": [
    "coach.birthday"
   ]
  },
  {
   "cell_type": "markdown",
   "metadata": {},
   "source": [
    "#### Class attributes\n",
    "In the examples we have seen so far, our attributes are contained in our object. They are specific to the object: if you create several objects, the attributes name, first name,... of each one will not necessarily be identical from one object to another. But we can also define attributes in our class. "
   ]
  },
  {
   "cell_type": "code",
   "execution_count": null,
   "metadata": {},
   "outputs": [],
   "source": [
    "class Counter:\n",
    "    \"\"\"This class has a class attribute (`objects_created`) that is incremented at each\n",
    "    time you create an object of this type\"\"\"\n",
    "\n",
    "    objects_created = 0  # The counter is 0 at the start\n",
    "\n",
    "    def __init__(self):\n",
    "        \"\"\"Each time we create an object, we increment the counter\"\"\"\n",
    "        Counter.objects_created = Counter.objects_created + 1"
   ]
  },
  {
   "cell_type": "markdown",
   "metadata": {},
   "source": [
    "We define our class attribute `objects_created` directly in the body of the class, before the definition of the constructor. \n",
    "\n",
    "When you want to call it in the constructor, you prefix the name of the class attribute with the name of the class (`Counter.objects_created`). \n",
    "\n",
    "And it is also accessed in this way, outside the class."
   ]
  },
  {
   "cell_type": "code",
   "execution_count": null,
   "metadata": {},
   "outputs": [],
   "source": [
    "Counter.objects_created"
   ]
  },
  {
   "cell_type": "code",
   "execution_count": null,
   "metadata": {},
   "outputs": [],
   "source": [
    "# Create a first object\n",
    "a = Counter()\n",
    "# Let's check that the counter has been incremented correctly\n",
    "print(Counter.objects_created)"
   ]
  },
  {
   "cell_type": "code",
   "execution_count": null,
   "metadata": {},
   "outputs": [],
   "source": [
    "b = Counter()\n",
    "print(b.objects_created)  # You can also access it using the object"
   ]
  },
  {
   "cell_type": "markdown",
   "metadata": {},
   "source": [
    "Each time we create a `Counter` object, the class attribute `objects_created` is incremented by 1. It can be useful to have class attributes, when all our objects must have some identical data."
   ]
  },
  {
   "cell_type": "markdown",
   "metadata": {},
   "source": [
    "### Method"
   ]
  },
  {
   "cell_type": "markdown",
   "metadata": {},
   "source": [
    "Attributes are variables specific to our object, which are used to characterize it. The methods are rather actions, as we saw in the previous part, acting on the object. For example, the `append` method of the `list` class allows to add an element to the manipulated list object."
   ]
  },
  {
   "cell_type": "markdown",
   "metadata": {},
   "source": [
    "Let's create a `Blackboard` class. Our table will have a `surface` (an attribute) on which we can write, read and delete. "
   ]
  },
  {
   "cell_type": "code",
   "execution_count": null,
   "metadata": {},
   "outputs": [],
   "source": [
    "class Blackboard:\n",
    "    \"\"\"Class defining a surface on which to write,\n",
    "    that can be read and deleted, by a set of methods. The modified attribute\n",
    "    is `surface`\"\"\"\n",
    "\n",
    "    def __init__(self):\n",
    "        \"\"\"By default, our surface is empty\"\"\"\n",
    "        self.surface = \"\""
   ]
  },
  {
   "cell_type": "markdown",
   "metadata": {},
   "source": [
    "We have already created a method, so you should not be too surprised by the syntax we will see. Our constructor is indeed a method, it keeps the syntax. So we will write our method `write` to start."
   ]
  },
  {
   "cell_type": "code",
   "execution_count": null,
   "metadata": {},
   "outputs": [],
   "source": [
    "class Blackboard:\n",
    "    \"\"\"Class defining a surface on which to write,\n",
    "    that can be read and deleted, by a set of methods. The modified attribute\n",
    "    is \"surface\" \"\"\"\n",
    "\n",
    "    def __init__(self):\n",
    "        \"\"\"By default, our surface is empty\"\"\"\n",
    "        self.surface = \"\"\n",
    "\n",
    "    def write(self, message_written):\n",
    "        \"\"\"Method for writing on the surface of the table.\n",
    "        If the surface is not empty, we skip a line before adding\n",
    "        the `message_written`.\"\"\"\n",
    "\n",
    "        if self.surface:\n",
    "            self.surface += \"\\n\"\n",
    "        self.surface += message_written"
   ]
  },
  {
   "cell_type": "code",
   "execution_count": null,
   "metadata": {},
   "outputs": [],
   "source": [
    "board = Blackboard()\n",
    "# Check if blackboard is empty\n",
    "print(board.surface)"
   ]
  },
  {
   "cell_type": "code",
   "execution_count": null,
   "metadata": {},
   "outputs": [],
   "source": [
    "board.write(\"Coooool ! I love this one\")\n",
    "# Is it good ?\n",
    "print(board.surface)"
   ]
  },
  {
   "cell_type": "code",
   "execution_count": null,
   "metadata": {},
   "outputs": [],
   "source": [
    "board.write(\"Have a good start of the school year!\")\n",
    "print(board.surface)"
   ]
  },
  {
   "cell_type": "markdown",
   "metadata": {},
   "source": [
    "When you create a new object, here a blackboard (`board`), the attributes of the object are specific to the created object. \n",
    "- This makes sense: if you create several blackboards, they will not all have the same surface area. So the attributes are contained in the object.\n",
    "\n",
    "On the other hand, the methods are contained in the class that defines our object. \n",
    "- This is very important. When you type `board.write(...)`, Python will look for the `write` method not in the `board` object, but in the `Blackboard` class. When you type `board.write(...)`, it is the same as if you write `Blackboard.write(board, ...)`, i.e. the `Blackboard` class takes  the `board` object as argument to the `write` method. Remember, `self` is the object parameter in any class method, for example `write(self, message_written)`."
   ]
  },
  {
   "cell_type": "code",
   "execution_count": null,
   "metadata": {},
   "outputs": [],
   "source": [
    "board.write(\"Hello Swartz\")\n",
    "Blackboard.write(board, \"Hello Turing\")"
   ]
  },
  {
   "cell_type": "code",
   "execution_count": null,
   "metadata": {},
   "outputs": [],
   "source": [
    "print(board.surface)"
   ]
  },
  {
   "cell_type": "code",
   "execution_count": null,
   "metadata": {},
   "outputs": [],
   "source": [
    "# And yes, the help comes from reading the docstring of the associated method\n",
    "help(Blackboard.write)"
   ]
  },
  {
   "cell_type": "code",
   "execution_count": null,
   "metadata": {},
   "outputs": [],
   "source": [
    "Blackboard.write(board, \"try\")\n",
    "print(board.surface)"
   ]
  },
  {
   "cell_type": "markdown",
   "metadata": {},
   "source": [
    "As you can see,  \n",
    "- Your `self` parameter is the object that calls the method. For this reason, you modify the surface of the object by calling `self.surface`.\n",
    "- To summarize, when you have to work in a method of the object on the object itself, you will go through `self`."
   ]
  },
  {
   "cell_type": "markdown",
   "metadata": {},
   "source": [
    "We still have to code methods to display and delete the content of our surface.\n",
    "\n",
    "Write these two methods; one that displays the contents of the table and the other that resets it to `\"\"`"
   ]
  },
  {
   "cell_type": "code",
   "execution_count": null,
   "metadata": {},
   "outputs": [],
   "source": [
    "class Blackboard:\n",
    "    \"\"\"Class defining a surface on which to write,\n",
    "    that can be read and deleted, by a set of methods. The modified attribute\n",
    "    is \"surface\" \"\"\"\n",
    "\n",
    "    def __init__(self):\n",
    "        \"\"\"By default, our surface is empty\"\"\"\n",
    "        self.surface = \"\"\n",
    "\n",
    "    def write(self, message_written):\n",
    "        \"\"\"Method for writing on the surface of the table.\n",
    "        If the surface is not empty, we skip a line before adding\n",
    "        the message to be written\"\"\"\n",
    "\n",
    "        if self.surface != \"\":\n",
    "            self.surface += \"\\n\"\n",
    "        self.surface += message_written\n",
    "\n",
    "    def read(self):\n",
    "        \"\"\"This method is in charge of displaying, thanks to print,\n",
    "        the surface of the painting\"\"\"\n",
    "        # to be completed\n",
    "\n",
    "    def reset(self):\n",
    "        \"\"\"This method allows you to erase the surface of the table\"\"\"\n",
    "        # to be completed"
   ]
  },
  {
   "cell_type": "code",
   "execution_count": null,
   "metadata": {},
   "outputs": [],
   "source": [
    "board = Blackboard()\n",
    "board.read()"
   ]
  },
  {
   "cell_type": "code",
   "execution_count": null,
   "metadata": {},
   "outputs": [],
   "source": [
    "board.write(\"Hello everyone\")\n",
    "board.write(\"Are you all right?\")\n",
    "board.read()"
   ]
  },
  {
   "cell_type": "code",
   "execution_count": null,
   "metadata": {},
   "outputs": [],
   "source": [
    "board.reset()\n",
    "board.read()"
   ]
  },
  {
   "cell_type": "code",
   "execution_count": null,
   "metadata": {},
   "outputs": [],
   "source": [
    "# It's worth the effort to get good documentation on ones classes, isn't it?\n",
    "help(Blackboard)"
   ]
  },
  {
   "cell_type": "markdown",
   "metadata": {},
   "source": [
    "### Remember associated attributes / methods\n",
    "\n",
    "The `dir` function returns a list containing the names of the attributes and methods of the object that is passed to it as a parameter. You can notice that everything is mixed, it's normal: for Python, methods, functions, classes, modules are objects. The first difference between a variable and a function is that a function is executable (callable). The `dir` function simply returns everything in the object, without distinction."
   ]
  },
  {
   "cell_type": "code",
   "execution_count": null,
   "metadata": {},
   "outputs": [],
   "source": [
    "dir(Blackboard)"
   ]
  },
  {
   "cell_type": "markdown",
   "metadata": {},
   "source": [
    "By default, when you develop a class, all objects built from that class will have a special attribute `__dict__`. This attribute is a dictionary that contains as keys the names of the attributes and, as values, the values of the attributes."
   ]
  },
  {
   "cell_type": "code",
   "execution_count": null,
   "metadata": {},
   "outputs": [],
   "source": [
    "Blackboard.__dict__"
   ]
  },
  {
   "cell_type": "markdown",
   "metadata": {},
   "source": [
    "### In summary\n",
    "- A class is defined by following the syntax `class ClassName`:.\n",
    "- Methods are functions, except that they are found in the body of the class, hence their special name.\n",
    "- Instance methods take as first parameter `self`, which is the instance of the manipulated object.\n",
    "- We build a class instance by calling its constructor, a method called `__init__`.\n",
    "- The attributes of an instance are defined in the constructor of its class, following this syntax: `self.attribute_name = value`.\n",
    "- All methods that start and end with double underscores like `__str__` are methods common to (almost) all classes."
   ]
  }
 ],
 "metadata": {
  "kernelspec": {
   "display_name": "Python 3",
   "language": "python",
   "name": "python3"
  },
  "language_info": {
   "codemirror_mode": {
    "name": "ipython"
   },
   "file_extension": ".py",
   "mimetype": "text/x-python",
   "name": "python",
   "nbconvert_exporter": "python"
  }
 },
 "nbformat": 4,
 "nbformat_minor": 2
}
