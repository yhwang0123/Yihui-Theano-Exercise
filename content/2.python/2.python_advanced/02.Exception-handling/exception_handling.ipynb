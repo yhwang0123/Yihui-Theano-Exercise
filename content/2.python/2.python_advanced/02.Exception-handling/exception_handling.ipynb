{
 "cells": [
  {
   "cell_type": "markdown",
   "metadata": {},
   "source": [
    "# Exception handling"
   ]
  },
  {
   "cell_type": "markdown",
   "metadata": {},
   "source": [
    "Exception handling allows a program to deal with runtime errors and continue its normal execution.\n",
    "Consider the following instructions:\n"
   ]
  },
  {
   "cell_type": "code",
   "execution_count": null,
   "metadata": {},
   "outputs": [],
   "source": [
    "a = input(\"Enter integer: \")\n",
    "num = int(a)\n",
    "inverse = 1 / num\n",
    "print(number, inverse)"
   ]
  },
  {
   "cell_type": "markdown",
   "metadata": {},
   "source": [
    "What happens if the user enters a null or non-numeric value? The program will stop and raise an error as shown below."
   ]
  },
  {
   "cell_type": "markdown",
   "metadata": {},
   "source": [
    "```\n",
    "Traceback (most recent call last):\n",
    "File \"\", line 3, in\n",
    "<u>ZeroDivisionError: division by zero</u>\n",
    "```"
   ]
  },
  {
   "cell_type": "markdown",
   "metadata": {},
   "source": [
    "```\n",
    "Traceback (most recent call last):\n",
    "File \"\", line 2, in\n",
    "<b>ValueError: invalid literal for int() with base 10: 'sss'</b>\n",
    "```"
   ]
  },
  {
   "cell_type": "markdown",
   "metadata": {},
   "source": [
    "Error messages provide information about the line that caused the error by tracing back to the function calls that lead to this instruction. The line numbers of the function calls are displayed in the error message to enable quick correction of the code.  \n",
    "\n",
    "An error that occurs during execution is also called an exception. How can you deal with an exception so that the program can catch the error and prompt the user to enter a correct number?\n"
   ]
  },
  {
   "cell_type": "markdown",
   "metadata": {},
   "source": [
    "## try and except\n",
    "See the difference. \n",
    "in the first case, the program crashes and the last `print(\"finished\")` instruction did not execute.  "
   ]
  },
  {
   "cell_type": "code",
   "execution_count": null,
   "metadata": {},
   "outputs": [],
   "source": [
    "3 / 0\n",
    "print(\"Finished\")"
   ]
  },
  {
   "cell_type": "markdown",
   "metadata": {},
   "source": [
    "If the `try` instruction is used, the error is caught in the `except` clause, and the body of the `except` clause is executed. The program is not interrupted. "
   ]
  },
  {
   "cell_type": "code",
   "execution_count": null,
   "metadata": {},
   "outputs": [],
   "source": [
    "try:\n",
    "    3 / 0\n",
    "except:\n",
    "    print(\"Not ok, there is an error\")\n",
    "\n",
    "print(\"Finished\")"
   ]
  },
  {
   "cell_type": "markdown",
   "metadata": {},
   "source": [
    "Now, we will try to avoid the exceptions mentioned above by rewriting our code as follows.   \n",
    "We have the ability to capture the type of exception."
   ]
  },
  {
   "cell_type": "code",
   "execution_count": null,
   "metadata": {},
   "outputs": [],
   "source": [
    "try:\n",
    "    3 / 0\n",
    "except ZeroDivisionError:\n",
    "    print(\"Error: You can't divide by zero\")\n",
    "except ValueError:\n",
    "    print(\"Error: Non-numeric value\")\n",
    "except BaseException:\n",
    "    print(\"Error: there is a problem\")"
   ]
  },
  {
   "cell_type": "code",
   "execution_count": null,
   "metadata": {},
   "outputs": [],
   "source": [
    "try:\n",
    "    3 / int(\"ssss\")\n",
    "except ZeroDivisionError:\n",
    "    print(\"Error: You can't divide by zero\")\n",
    "except ValueError:\n",
    "    print(\"Error: Non-numeric value\")\n",
    "except BaseException:\n",
    "    print(\"Error: there is a problem\")"
   ]
  },
  {
   "cell_type": "markdown",
   "metadata": {},
   "source": [
    "### Finally and else\n",
    "`try`/`except` can be completed with two other keywords: `finally` and `else`.  \n",
    "`else` is the block executed if no exception is thrown."
   ]
  },
  {
   "cell_type": "code",
   "execution_count": null,
   "metadata": {},
   "outputs": [],
   "source": [
    "try:\n",
    "    3 / 3\n",
    "except ZeroDivisionError:\n",
    "    print(\"Error: You can't divide by zero\")\n",
    "except ValueError:\n",
    "    print(\"Error: Non-numeric value\")\n",
    "except BaseException:\n",
    "    print(\"Error: there is a problem\")\n",
    "else:\n",
    "    print(\"Everything is ok\")"
   ]
  },
  {
   "cell_type": "markdown",
   "metadata": {},
   "source": [
    "`finally` is a block that is executed after all other blocks have been executed, regardless of whether there was an exception or not, and **even if the program crashes**. \n"
   ]
  },
  {
   "cell_type": "code",
   "execution_count": null,
   "metadata": {},
   "outputs": [],
   "source": [
    "try:\n",
    "    3 / 0\n",
    "except ZeroDivisionError:\n",
    "    print(\"Error: You can't divide by zero\")\n",
    "except ValueError:\n",
    "    print(\"Error: Non-numeric value\")\n",
    "except BaseException:\n",
    "    print(\"Error: there is a problem\")\n",
    "finally:\n",
    "    print(\"I'll do executing in the end no matter what..\")"
   ]
  },
  {
   "cell_type": "markdown",
   "metadata": {},
   "source": [
    "### raise"
   ]
  },
  {
   "cell_type": "markdown",
   "metadata": {},
   "source": [
    "It is possible to trigger exceptions ourselves."
   ]
  },
  {
   "cell_type": "markdown",
   "metadata": {},
   "source": [
    "`raise` is a Python statement that can trigger any `Error`. This means that an error is explicitly triggered. "
   ]
  },
  {
   "cell_type": "code",
   "execution_count": null,
   "metadata": {},
   "outputs": [],
   "source": [
    "def division(num, div):\n",
    "    if div == 0:\n",
    "        raise ZeroDivisionError()\n",
    "    else:\n",
    "        return num / div\n",
    "\n",
    "\n",
    "division(5, 0)"
   ]
  },
  {
   "cell_type": "markdown",
   "metadata": {},
   "source": [
    "We can agree that the `division()` function is completely useless! This was just to showcase the purpose of `raise`. \n",
    "\n",
    "### Creating an exception\n",
    "As you can imagine, we can create our own exceptions. \n",
    "Just create a class that will inherit from the `Exception` class."
   ]
  },
  {
   "cell_type": "code",
   "execution_count": null,
   "metadata": {},
   "outputs": [],
   "source": [
    "class MyError(Exception):\n",
    "    pass"
   ]
  },
  {
   "cell_type": "code",
   "execution_count": null,
   "metadata": {},
   "outputs": [],
   "source": [
    "raise MyError(\"Hello\")"
   ]
  }
 ],
 "metadata": {
  "kernelspec": {
   "display_name": "Python 3",
   "language": "python",
   "name": "python3"
  },
  "language_info": {
   "codemirror_mode": {
    "name": "ipython"
   },
   "file_extension": ".py",
   "mimetype": "text/x-python",
   "name": "python",
   "nbconvert_exporter": "python"
  }
 },
 "nbformat": 4,
 "nbformat_minor": 2
}
