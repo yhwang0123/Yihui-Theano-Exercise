{
 "cells": [
  {
   "cell_type": "markdown",
   "metadata": {},
   "source": [
    "# Drill - Threading\n",
    "\n"
   ]
  },
  {
   "cell_type": "markdown",
   "metadata": {},
   "source": [
    "### Exercise 1\n",
    "In the `data/` folder, you have 10 files that contain Shakespears sonnets. You have to gather all these files into one file `data_all.txt` using threads. Be careful, the sonnets must appear in order."
   ]
  },
  {
   "cell_type": "code",
   "execution_count": 2,
   "metadata": {},
   "outputs": [
    {
     "name": "stdout",
     "output_type": "stream",
     "text": [
      "./data/data_part_1.txt./data/data_part_2.txt\n",
      "\n",
      "./data/data_part_3.txt\n",
      "./data/data_part_4.txt\n",
      "./data/data_part_5.txt./data/data_part_6.txt\n",
      "\n",
      "./data/data_part_7.txt\n",
      "./data/data_part_8.txt\n",
      "./data/data_part_9.txt\n",
      "./data/data_part_10.txt\n"
     ]
    }
   ],
   "source": [
    "import threading\n",
    "\n",
    "use_thread = True\n",
    "\n",
    "def read_and_write_file(file_name):\n",
    "    if use_thread:\n",
    "        print(thread.name)\n",
    "\n",
    "    with threading.Lock() as lock:\n",
    "        with open('./data/data_all.txt', 'a') as out, open(file_name) as in_:\n",
    "            out.writelines(in_)\n",
    "\n",
    "if __name__ == '__main__':\n",
    "    file_names = ['./data/data_part_1.txt', './data/data_part_2.txt', './data/data_part_3.txt','./data/data_part_4.txt','./data/data_part_5.txt','./data/data_part_6.txt','./data/data_part_7.txt','./data/data_part_8.txt','./data/data_part_9.txt','./data/data_part_10.txt']\n",
    "    if use_thread:\n",
    "        for file_name in file_names:\n",
    "            thread = threading.Thread(target = read_and_write_file, args = (file_name,), name = file_name)\n",
    "            thread.start()\n",
    "    else:\n",
    "        for file_name in file_names:\n",
    "            read_and_write_file(file_name)\n",
    "        \n",
    "\n"
   ]
  },
  {
   "cell_type": "markdown",
   "metadata": {},
   "source": [
    "### Exercise 2\n",
    "Scrap all the web pages in the `urls` list and display the links. 1 thread per link. "
   ]
  },
  {
   "cell_type": "code",
   "execution_count": 7,
   "metadata": {},
   "outputs": [],
   "source": [
    "urls = [\n",
    "    \"http://www.python.org\",\n",
    "    \"http://www.python.org/about/\",\n",
    "    \"http://www.onlamp.com/pub/a/python/2003/04/17/metaclasses.html\",\n",
    "    \"http://www.python.org/doc/\",\n",
    "    \"http://www.python.org/download/\",\n",
    "    \"http://www.python.org/getit/\",\n",
    "    \"http://www.python.org/community/\",\n",
    "    \"https://wiki.python.org/moin/\",\n",
    "]"
   ]
  }
 ],
 "metadata": {
  "file_extension": ".py",
  "kernelspec": {
   "display_name": "Python 3",
   "language": "python",
   "name": "python3"
  },
  "language_info": {
   "codemirror_mode": {
    "name": "ipython",
    "version": 3
   },
   "file_extension": ".py",
   "mimetype": "text/x-python",
   "name": "python",
   "nbconvert_exporter": "python",
   "pygments_lexer": "ipython3",
   "version": "3.9.7"
  },
  "mimetype": "text/x-python",
  "name": "python",
  "npconvert_exporter": "python",
  "pygments_lexer": "ipython3",
  "version": 3
 },
 "nbformat": 4,
 "nbformat_minor": 2
}
