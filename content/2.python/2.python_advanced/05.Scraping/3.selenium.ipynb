{
 "cells": [
  {
   "cell_type": "markdown",
   "metadata": {},
   "source": [
    "# Scraping with Selenium\n",
    "\n",
    "Selenium is a tool initially created to automate tests on websites. It is therefore very useful when information is accessible by clicking on links. A button for example is an element from which it is very difficult to obtain the link. BeautifulSoup then becomes limited.\n",
    "In this case, use Selenium."
   ]
  },
  {
   "cell_type": "markdown",
   "metadata": {},
   "source": [
    "### Load libraries\n",
    "\n",
    "If you are missing any libraries in the next cell, you'll need to install them before continuing."
   ]
  },
  {
   "cell_type": "code",
   "execution_count": 7,
   "metadata": {},
   "outputs": [],
   "source": [
    "import bs4\n",
    "import requests\n",
    "from bs4 import BeautifulSoup\n",
    "import numpy as np\n",
    "import pandas as pd\n",
    "import json\n",
    "import re\n",
    "import lxml.html\n",
    "import time\n",
    "import random\n",
    "from random import randint\n",
    "import logging\n",
    "import collections\n",
    "from time import gmtime, strftime\n",
    "\n",
    "import re\n",
    "from tabulate import tabulate\n",
    "import os\n",
    "\n",
    "date = strftime(\"%Y-%m-%d\")"
   ]
  },
  {
   "cell_type": "markdown",
   "metadata": {},
   "source": [
    "### Install Selenium according to this manual\n",
    "\n",
    "https://selenium-python.readthedocs.io/installation.html#downloading-python-bindings-for-selenium/bin\n",
    "\n",
    "*NB: On Linux, put your `geckodriver` (the downloaded extension) in the equivalent path on your machine into `/home/<YOUR_NAME>/.local/bin/`*"
   ]
  },
  {
   "cell_type": "markdown",
   "metadata": {},
   "source": [
    "We will simulate a search on the official Python website."
   ]
  },
  {
   "cell_type": "code",
   "execution_count": 8,
   "metadata": {},
   "outputs": [
    {
     "ename": "SessionNotCreatedException",
     "evalue": "Message: Expected browser binary location, but unable to find binary in default location, no 'moz:firefoxOptions.binary' capability provided, and no binary flag set on the command line\n",
     "output_type": "error",
     "traceback": [
      "\u001b[0;31m---------------------------------------------------------------------------\u001b[0m",
      "\u001b[0;31mSessionNotCreatedException\u001b[0m                Traceback (most recent call last)",
      "\u001b[0;32m/var/folders/19/sv_6hbsn0d52kh_xhxmjswxh0000gn/T/ipykernel_845/1362107842.py\u001b[0m in \u001b[0;36m<module>\u001b[0;34m\u001b[0m\n\u001b[1;32m      8\u001b[0m \u001b[0;34m\u001b[0m\u001b[0m\n\u001b[1;32m      9\u001b[0m \u001b[0;31m# Here, we create instance of Firefox WebDriver.\u001b[0m\u001b[0;34m\u001b[0m\u001b[0;34m\u001b[0m\u001b[0m\n\u001b[0;32m---> 10\u001b[0;31m \u001b[0mdriver\u001b[0m \u001b[0;34m=\u001b[0m \u001b[0mwebdriver\u001b[0m\u001b[0;34m.\u001b[0m\u001b[0mFirefox\u001b[0m\u001b[0;34m(\u001b[0m\u001b[0;34m)\u001b[0m\u001b[0;34m\u001b[0m\u001b[0;34m\u001b[0m\u001b[0m\n\u001b[0m\u001b[1;32m     11\u001b[0m \u001b[0;34m\u001b[0m\u001b[0m\n\u001b[1;32m     12\u001b[0m \u001b[0;31m# The driver.get method will lead to a page given by the URL. WebDriver will wait until the page is fully\u001b[0m\u001b[0;34m\u001b[0m\u001b[0;34m\u001b[0m\u001b[0m\n",
      "\u001b[0;32m/opt/anaconda3/lib/python3.9/site-packages/selenium/webdriver/firefox/webdriver.py\u001b[0m in \u001b[0;36m__init__\u001b[0;34m(self, firefox_profile, firefox_binary, capabilities, proxy, executable_path, options, service_log_path, service_args, service, desired_capabilities, log_path, keep_alive)\u001b[0m\n\u001b[1;32m    178\u001b[0m             \u001b[0mremote_server_addr\u001b[0m\u001b[0;34m=\u001b[0m\u001b[0mself\u001b[0m\u001b[0;34m.\u001b[0m\u001b[0mservice\u001b[0m\u001b[0;34m.\u001b[0m\u001b[0mservice_url\u001b[0m\u001b[0;34m,\u001b[0m\u001b[0;34m\u001b[0m\u001b[0;34m\u001b[0m\u001b[0m\n\u001b[1;32m    179\u001b[0m             ignore_proxy=options._ignore_local_proxy)\n\u001b[0;32m--> 180\u001b[0;31m         RemoteWebDriver.__init__(\n\u001b[0m\u001b[1;32m    181\u001b[0m             \u001b[0mself\u001b[0m\u001b[0;34m,\u001b[0m\u001b[0;34m\u001b[0m\u001b[0;34m\u001b[0m\u001b[0m\n\u001b[1;32m    182\u001b[0m             \u001b[0mcommand_executor\u001b[0m\u001b[0;34m=\u001b[0m\u001b[0mexecutor\u001b[0m\u001b[0;34m,\u001b[0m\u001b[0;34m\u001b[0m\u001b[0;34m\u001b[0m\u001b[0m\n",
      "\u001b[0;32m/opt/anaconda3/lib/python3.9/site-packages/selenium/webdriver/remote/webdriver.py\u001b[0m in \u001b[0;36m__init__\u001b[0;34m(self, command_executor, desired_capabilities, browser_profile, proxy, keep_alive, file_detector, options)\u001b[0m\n\u001b[1;32m    273\u001b[0m         \u001b[0mself\u001b[0m\u001b[0;34m.\u001b[0m\u001b[0m_authenticator_id\u001b[0m \u001b[0;34m=\u001b[0m \u001b[0;32mNone\u001b[0m\u001b[0;34m\u001b[0m\u001b[0;34m\u001b[0m\u001b[0m\n\u001b[1;32m    274\u001b[0m         \u001b[0mself\u001b[0m\u001b[0;34m.\u001b[0m\u001b[0mstart_client\u001b[0m\u001b[0;34m(\u001b[0m\u001b[0;34m)\u001b[0m\u001b[0;34m\u001b[0m\u001b[0;34m\u001b[0m\u001b[0m\n\u001b[0;32m--> 275\u001b[0;31m         \u001b[0mself\u001b[0m\u001b[0;34m.\u001b[0m\u001b[0mstart_session\u001b[0m\u001b[0;34m(\u001b[0m\u001b[0mcapabilities\u001b[0m\u001b[0;34m,\u001b[0m \u001b[0mbrowser_profile\u001b[0m\u001b[0;34m)\u001b[0m\u001b[0;34m\u001b[0m\u001b[0;34m\u001b[0m\u001b[0m\n\u001b[0m\u001b[1;32m    276\u001b[0m \u001b[0;34m\u001b[0m\u001b[0m\n\u001b[1;32m    277\u001b[0m     \u001b[0;32mdef\u001b[0m \u001b[0m__repr__\u001b[0m\u001b[0;34m(\u001b[0m\u001b[0mself\u001b[0m\u001b[0;34m)\u001b[0m\u001b[0;34m:\u001b[0m\u001b[0;34m\u001b[0m\u001b[0;34m\u001b[0m\u001b[0m\n",
      "\u001b[0;32m/opt/anaconda3/lib/python3.9/site-packages/selenium/webdriver/remote/webdriver.py\u001b[0m in \u001b[0;36mstart_session\u001b[0;34m(self, capabilities, browser_profile)\u001b[0m\n\u001b[1;32m    363\u001b[0m         \u001b[0mw3c_caps\u001b[0m \u001b[0;34m=\u001b[0m \u001b[0m_make_w3c_caps\u001b[0m\u001b[0;34m(\u001b[0m\u001b[0mcapabilities\u001b[0m\u001b[0;34m)\u001b[0m\u001b[0;34m\u001b[0m\u001b[0;34m\u001b[0m\u001b[0m\n\u001b[1;32m    364\u001b[0m         \u001b[0mparameters\u001b[0m \u001b[0;34m=\u001b[0m \u001b[0;34m{\u001b[0m\u001b[0;34m\"capabilities\"\u001b[0m\u001b[0;34m:\u001b[0m \u001b[0mw3c_caps\u001b[0m\u001b[0;34m}\u001b[0m\u001b[0;34m\u001b[0m\u001b[0;34m\u001b[0m\u001b[0m\n\u001b[0;32m--> 365\u001b[0;31m         \u001b[0mresponse\u001b[0m \u001b[0;34m=\u001b[0m \u001b[0mself\u001b[0m\u001b[0;34m.\u001b[0m\u001b[0mexecute\u001b[0m\u001b[0;34m(\u001b[0m\u001b[0mCommand\u001b[0m\u001b[0;34m.\u001b[0m\u001b[0mNEW_SESSION\u001b[0m\u001b[0;34m,\u001b[0m \u001b[0mparameters\u001b[0m\u001b[0;34m)\u001b[0m\u001b[0;34m\u001b[0m\u001b[0;34m\u001b[0m\u001b[0m\n\u001b[0m\u001b[1;32m    366\u001b[0m         \u001b[0;32mif\u001b[0m \u001b[0;34m'sessionId'\u001b[0m \u001b[0;32mnot\u001b[0m \u001b[0;32min\u001b[0m \u001b[0mresponse\u001b[0m\u001b[0;34m:\u001b[0m\u001b[0;34m\u001b[0m\u001b[0;34m\u001b[0m\u001b[0m\n\u001b[1;32m    367\u001b[0m             \u001b[0mresponse\u001b[0m \u001b[0;34m=\u001b[0m \u001b[0mresponse\u001b[0m\u001b[0;34m[\u001b[0m\u001b[0;34m'value'\u001b[0m\u001b[0;34m]\u001b[0m\u001b[0;34m\u001b[0m\u001b[0;34m\u001b[0m\u001b[0m\n",
      "\u001b[0;32m/opt/anaconda3/lib/python3.9/site-packages/selenium/webdriver/remote/webdriver.py\u001b[0m in \u001b[0;36mexecute\u001b[0;34m(self, driver_command, params)\u001b[0m\n\u001b[1;32m    428\u001b[0m         \u001b[0mresponse\u001b[0m \u001b[0;34m=\u001b[0m \u001b[0mself\u001b[0m\u001b[0;34m.\u001b[0m\u001b[0mcommand_executor\u001b[0m\u001b[0;34m.\u001b[0m\u001b[0mexecute\u001b[0m\u001b[0;34m(\u001b[0m\u001b[0mdriver_command\u001b[0m\u001b[0;34m,\u001b[0m \u001b[0mparams\u001b[0m\u001b[0;34m)\u001b[0m\u001b[0;34m\u001b[0m\u001b[0;34m\u001b[0m\u001b[0m\n\u001b[1;32m    429\u001b[0m         \u001b[0;32mif\u001b[0m \u001b[0mresponse\u001b[0m\u001b[0;34m:\u001b[0m\u001b[0;34m\u001b[0m\u001b[0;34m\u001b[0m\u001b[0m\n\u001b[0;32m--> 430\u001b[0;31m             \u001b[0mself\u001b[0m\u001b[0;34m.\u001b[0m\u001b[0merror_handler\u001b[0m\u001b[0;34m.\u001b[0m\u001b[0mcheck_response\u001b[0m\u001b[0;34m(\u001b[0m\u001b[0mresponse\u001b[0m\u001b[0;34m)\u001b[0m\u001b[0;34m\u001b[0m\u001b[0;34m\u001b[0m\u001b[0m\n\u001b[0m\u001b[1;32m    431\u001b[0m             response['value'] = self._unwrap_value(\n\u001b[1;32m    432\u001b[0m                 response.get('value', None))\n",
      "\u001b[0;32m/opt/anaconda3/lib/python3.9/site-packages/selenium/webdriver/remote/errorhandler.py\u001b[0m in \u001b[0;36mcheck_response\u001b[0;34m(self, response)\u001b[0m\n\u001b[1;32m    245\u001b[0m                 \u001b[0malert_text\u001b[0m \u001b[0;34m=\u001b[0m \u001b[0mvalue\u001b[0m\u001b[0;34m[\u001b[0m\u001b[0;34m'alert'\u001b[0m\u001b[0;34m]\u001b[0m\u001b[0;34m.\u001b[0m\u001b[0mget\u001b[0m\u001b[0;34m(\u001b[0m\u001b[0;34m'text'\u001b[0m\u001b[0;34m)\u001b[0m\u001b[0;34m\u001b[0m\u001b[0;34m\u001b[0m\u001b[0m\n\u001b[1;32m    246\u001b[0m             \u001b[0;32mraise\u001b[0m \u001b[0mexception_class\u001b[0m\u001b[0;34m(\u001b[0m\u001b[0mmessage\u001b[0m\u001b[0;34m,\u001b[0m \u001b[0mscreen\u001b[0m\u001b[0;34m,\u001b[0m \u001b[0mstacktrace\u001b[0m\u001b[0;34m,\u001b[0m \u001b[0malert_text\u001b[0m\u001b[0;34m)\u001b[0m  \u001b[0;31m# type: ignore[call-arg]  # mypy is not smart enough here\u001b[0m\u001b[0;34m\u001b[0m\u001b[0;34m\u001b[0m\u001b[0m\n\u001b[0;32m--> 247\u001b[0;31m         \u001b[0;32mraise\u001b[0m \u001b[0mexception_class\u001b[0m\u001b[0;34m(\u001b[0m\u001b[0mmessage\u001b[0m\u001b[0;34m,\u001b[0m \u001b[0mscreen\u001b[0m\u001b[0;34m,\u001b[0m \u001b[0mstacktrace\u001b[0m\u001b[0;34m)\u001b[0m\u001b[0;34m\u001b[0m\u001b[0;34m\u001b[0m\u001b[0m\n\u001b[0m\u001b[1;32m    248\u001b[0m \u001b[0;34m\u001b[0m\u001b[0m\n\u001b[1;32m    249\u001b[0m     \u001b[0;32mdef\u001b[0m \u001b[0m_value_or_default\u001b[0m\u001b[0;34m(\u001b[0m\u001b[0mself\u001b[0m\u001b[0;34m,\u001b[0m \u001b[0mobj\u001b[0m\u001b[0;34m:\u001b[0m \u001b[0mMapping\u001b[0m\u001b[0;34m[\u001b[0m\u001b[0m_KT\u001b[0m\u001b[0;34m,\u001b[0m \u001b[0m_VT\u001b[0m\u001b[0;34m]\u001b[0m\u001b[0;34m,\u001b[0m \u001b[0mkey\u001b[0m\u001b[0;34m:\u001b[0m \u001b[0m_KT\u001b[0m\u001b[0;34m,\u001b[0m \u001b[0mdefault\u001b[0m\u001b[0;34m:\u001b[0m \u001b[0m_VT\u001b[0m\u001b[0;34m)\u001b[0m \u001b[0;34m->\u001b[0m \u001b[0m_VT\u001b[0m\u001b[0;34m:\u001b[0m\u001b[0;34m\u001b[0m\u001b[0;34m\u001b[0m\u001b[0m\n",
      "\u001b[0;31mSessionNotCreatedException\u001b[0m: Message: Expected browser binary location, but unable to find binary in default location, no 'moz:firefoxOptions.binary' capability provided, and no binary flag set on the command line\n"
     ]
    }
   ],
   "source": [
    "import selenium\n",
    "\n",
    "# The selenium.webdriver module provides all the implementations of WebDriver\n",
    "# Currently supported are Firefox, Chrome, IE and Remote. The `Keys` class provides keys on\n",
    "# the keyboard such as RETURN, F1, ALT etc.\n",
    "from selenium import webdriver\n",
    "from selenium.webdriver.common.keys import Keys\n",
    "\n",
    "# Here, we create instance of Firefox WebDriver.\n",
    "driver = webdriver.Firefox()\n",
    "\n",
    "# The driver.get method will lead to a page given by the URL. WebDriver will wait until the page is fully\n",
    "# loaded (i.e. the \"onload\" event has been triggered) before returning the control to your script.\n",
    "# It should be noted that if your page uses a lot of AJAX calls when loading, WebDriver may not know\n",
    "# when it was fully loaded.\n",
    "driver.get(\"http://www.python.org\")\n",
    "\n",
    "# The following line is a statement confirming that the title contains the word \"Python\".\n",
    "assert \"Python\" in driver.title\n",
    "\n",
    "# WebDriver offers several methods to search for items using one of the methods\n",
    "# `find_element_by_...` .\n",
    "# For example, the input text element can be located by its name attribute by\n",
    "# using the `find_element_by_name` method.\n",
    "elem = driver.find_element_by_name(\"q\")\n",
    "\n",
    "# Then we send keys. This is similar to entering keys using your keyboard.\n",
    "# Special keys can be sent using the `Keys` class imported in line 7 (from selenium.webdriver.common.keys import Keys).\n",
    "# For security reasons, we will delete any pre-filled text in the input field\n",
    "# (for example, \"Search\") so that it does not affect our search results:\n",
    "elem.clear()\n",
    "elem.send_keys(\"pycon\")\n",
    "elem.send_keys(Keys.RETURN)\n",
    "\n",
    "# After submitting the page, you should get the result if there is one. To ensure that certain results\n",
    "# are found, make an assertion:\n",
    "assert \"No results found.\" not in driver.page_source\n",
    "driver.close()"
   ]
  },
  {
   "cell_type": "code",
   "execution_count": null,
   "metadata": {},
   "outputs": [],
   "source": [
    "import selenium\n",
    "\n",
    "# The selenium.webdriver module provides all the implementations of WebDriver\n",
    "# Currently supported are Firefox, Chrome, IE and Remote. The `Keys` class provides keys on\n",
    "# the keyboard such as RETURN, F1, ALT etc.\n",
    "from selenium import webdriver\n",
    "from selenium.webdriver.common.keys import Keys\n",
    "from selenium.webdriver.common.by import By\n",
    "\n",
    "# Here, we create instance of Firefox WebDriver.\n",
    "driver = webdriver.Firefox()\n",
    "\n",
    "# The driver.get method will lead to a page given by the URL. WebDriver will wait until the page is fully\n",
    "# loaded (i.e. the \"onload\" event has been triggered) before returning the control to your script.\n",
    "# It should be noted that if your page uses a lot of AJAX calls when loading, WebDriver may not know\n",
    "# when it was fully loaded.\n",
    "driver.get(\"http://www.python.org\")\n",
    "\n",
    "# The following line is a statement confirming that the title contains the word \"Python\".\n",
    "assert \"Python\" in driver.title\n",
    "\n",
    "# WebDriver offers several methods to search for items using one of the methods\n",
    "# `find_element_by_...` .\n",
    "# For example, the input text element can be located by its name attribute by\n",
    "# using the `find_element_by_name` method.\n",
    "driver.find_element(By.NAME, 'q').send_keys(\"pycon\")\n",
    "\n",
    "# Then we send keys. This is similar to entering keys using your keyboard.\n",
    "# Special keys can be sent using the `Keys` class imported in line 7 (from selenium.webdriver.common.keys import Keys).\n",
    "# For security reasons, we will delete any pre-filled text in the input field\n",
    "# (for example, \"Search\") so that it does not affect our search results:\n",
    "#elem.clear()\n",
    "#elem.send_keys(\"pycon\")\n",
    "#elem.send_keys(Keys.RETURN)\n",
    "\n",
    "# After submitting the page, you should get the result if there is one. To ensure that certain results\n",
    "# are found, make an assertion:\n",
    "assert \"No results found.\" not in driver.page_source\n",
    "#driver.close()"
   ]
  },
  {
   "cell_type": "markdown",
   "metadata": {},
   "source": [
    "#### Open the source code of the webpage and check that the search area (field) is called \"q\"."
   ]
  },
  {
   "cell_type": "code",
   "execution_count": null,
   "metadata": {},
   "outputs": [
    {
     "ename": "SyntaxError",
     "evalue": "invalid syntax (192146405.py, line 1)",
     "output_type": "error",
     "traceback": [
      "\u001b[0;36m  File \u001b[0;32m\"/var/folders/19/sv_6hbsn0d52kh_xhxmjswxh0000gn/T/ipykernel_684/192146405.py\"\u001b[0;36m, line \u001b[0;32m1\u001b[0m\n\u001b[0;31m    <input id=\"id-search-field\" name=\"q\" type=\"search\" role=\"textbox\" class=\"search-field\" placeholder=\"Search\" value=\"\" tabindex=\"1\">\u001b[0m\n\u001b[0m    ^\u001b[0m\n\u001b[0;31mSyntaxError\u001b[0m\u001b[0;31m:\u001b[0m invalid syntax\n"
     ]
    }
   ],
   "source": [
    "<input id=\"id-search-field\" name=\"q\" type=\"search\" role=\"textbox\" class=\"search-field\" placeholder=\"Search\" value=\"\" tabindex=\"1\">"
   ]
  },
  {
   "cell_type": "markdown",
   "metadata": {},
   "source": [
    "### Getting a phone number from *leboncoin*"
   ]
  },
  {
   "cell_type": "code",
   "execution_count": 15,
   "metadata": {},
   "outputs": [
    {
     "name": "stderr",
     "output_type": "stream",
     "text": [
      "/var/folders/19/sv_6hbsn0d52kh_xhxmjswxh0000gn/T/ipykernel_845/3613047310.py:13: DeprecationWarning: find_elements_by_xpath is deprecated. Please use find_elements(by=By.XPATH, value=xpath) instead\n",
      "  python_button = driver.find_elements_by_xpath('//div[@data-reactid=\"269\"]')[0]\n"
     ]
    },
    {
     "ename": "WebDriverException",
     "evalue": "Message: TypeError: browsingContext.currentWindowGlobal is null\nStacktrace:\ngetMarionetteCommandsActorProxy/get/<@chrome://remote/content/marionette/actors/MarionetteCommandsParent.jsm:332:29\n",
     "output_type": "error",
     "traceback": [
      "\u001b[0;31m---------------------------------------------------------------------------\u001b[0m",
      "\u001b[0;31mWebDriverException\u001b[0m                        Traceback (most recent call last)",
      "\u001b[0;32m/var/folders/19/sv_6hbsn0d52kh_xhxmjswxh0000gn/T/ipykernel_845/3613047310.py\u001b[0m in \u001b[0;36m<module>\u001b[0;34m\u001b[0m\n\u001b[1;32m     11\u001b[0m \u001b[0mdriver\u001b[0m\u001b[0;34m.\u001b[0m\u001b[0mget\u001b[0m\u001b[0;34m(\u001b[0m\u001b[0murl\u001b[0m\u001b[0;34m)\u001b[0m\u001b[0;34m\u001b[0m\u001b[0;34m\u001b[0m\u001b[0m\n\u001b[1;32m     12\u001b[0m \u001b[0;34m\u001b[0m\u001b[0m\n\u001b[0;32m---> 13\u001b[0;31m \u001b[0mpython_button\u001b[0m \u001b[0;34m=\u001b[0m \u001b[0mdriver\u001b[0m\u001b[0;34m.\u001b[0m\u001b[0mfind_elements_by_xpath\u001b[0m\u001b[0;34m(\u001b[0m\u001b[0;34m'//div[@data-reactid=\"269\"]'\u001b[0m\u001b[0;34m)\u001b[0m\u001b[0;34m[\u001b[0m\u001b[0;36m0\u001b[0m\u001b[0;34m]\u001b[0m\u001b[0;34m\u001b[0m\u001b[0;34m\u001b[0m\u001b[0m\n\u001b[0m\u001b[1;32m     14\u001b[0m \u001b[0mpython_button\u001b[0m\u001b[0;34m.\u001b[0m\u001b[0mclick\u001b[0m\u001b[0;34m(\u001b[0m\u001b[0;34m)\u001b[0m\u001b[0;34m\u001b[0m\u001b[0;34m\u001b[0m\u001b[0m\n\u001b[1;32m     15\u001b[0m \u001b[0;34m\u001b[0m\u001b[0m\n",
      "\u001b[0;32m/opt/anaconda3/lib/python3.9/site-packages/selenium/webdriver/remote/webdriver.py\u001b[0m in \u001b[0;36mfind_elements_by_xpath\u001b[0;34m(self, xpath)\u001b[0m\n\u001b[1;32m    547\u001b[0m             \u001b[0mstacklevel\u001b[0m\u001b[0;34m=\u001b[0m\u001b[0;36m2\u001b[0m\u001b[0;34m,\u001b[0m\u001b[0;34m\u001b[0m\u001b[0;34m\u001b[0m\u001b[0m\n\u001b[1;32m    548\u001b[0m         )\n\u001b[0;32m--> 549\u001b[0;31m         \u001b[0;32mreturn\u001b[0m \u001b[0mself\u001b[0m\u001b[0;34m.\u001b[0m\u001b[0mfind_elements\u001b[0m\u001b[0;34m(\u001b[0m\u001b[0mby\u001b[0m\u001b[0;34m=\u001b[0m\u001b[0mBy\u001b[0m\u001b[0;34m.\u001b[0m\u001b[0mXPATH\u001b[0m\u001b[0;34m,\u001b[0m \u001b[0mvalue\u001b[0m\u001b[0;34m=\u001b[0m\u001b[0mxpath\u001b[0m\u001b[0;34m)\u001b[0m\u001b[0;34m\u001b[0m\u001b[0;34m\u001b[0m\u001b[0m\n\u001b[0m\u001b[1;32m    550\u001b[0m \u001b[0;34m\u001b[0m\u001b[0m\n\u001b[1;32m    551\u001b[0m     \u001b[0;32mdef\u001b[0m \u001b[0mfind_element_by_link_text\u001b[0m\u001b[0;34m(\u001b[0m\u001b[0mself\u001b[0m\u001b[0;34m,\u001b[0m \u001b[0mlink_text\u001b[0m\u001b[0;34m)\u001b[0m \u001b[0;34m->\u001b[0m \u001b[0mWebElement\u001b[0m\u001b[0;34m:\u001b[0m\u001b[0;34m\u001b[0m\u001b[0;34m\u001b[0m\u001b[0m\n",
      "\u001b[0;32m/opt/anaconda3/lib/python3.9/site-packages/selenium/webdriver/remote/webdriver.py\u001b[0m in \u001b[0;36mfind_elements\u001b[0;34m(self, by, value)\u001b[0m\n\u001b[1;32m   1282\u001b[0m         \u001b[0;31m# Return empty list if driver returns null\u001b[0m\u001b[0;34m\u001b[0m\u001b[0;34m\u001b[0m\u001b[0m\n\u001b[1;32m   1283\u001b[0m         \u001b[0;31m# See https://github.com/SeleniumHQ/selenium/issues/4555\u001b[0m\u001b[0;34m\u001b[0m\u001b[0;34m\u001b[0m\u001b[0m\n\u001b[0;32m-> 1284\u001b[0;31m         return self.execute(Command.FIND_ELEMENTS, {\n\u001b[0m\u001b[1;32m   1285\u001b[0m             \u001b[0;34m'using'\u001b[0m\u001b[0;34m:\u001b[0m \u001b[0mby\u001b[0m\u001b[0;34m,\u001b[0m\u001b[0;34m\u001b[0m\u001b[0;34m\u001b[0m\u001b[0m\n\u001b[1;32m   1286\u001b[0m             'value': value})['value'] or []\n",
      "\u001b[0;32m/opt/anaconda3/lib/python3.9/site-packages/selenium/webdriver/remote/webdriver.py\u001b[0m in \u001b[0;36mexecute\u001b[0;34m(self, driver_command, params)\u001b[0m\n\u001b[1;32m    428\u001b[0m         \u001b[0mresponse\u001b[0m \u001b[0;34m=\u001b[0m \u001b[0mself\u001b[0m\u001b[0;34m.\u001b[0m\u001b[0mcommand_executor\u001b[0m\u001b[0;34m.\u001b[0m\u001b[0mexecute\u001b[0m\u001b[0;34m(\u001b[0m\u001b[0mdriver_command\u001b[0m\u001b[0;34m,\u001b[0m \u001b[0mparams\u001b[0m\u001b[0;34m)\u001b[0m\u001b[0;34m\u001b[0m\u001b[0;34m\u001b[0m\u001b[0m\n\u001b[1;32m    429\u001b[0m         \u001b[0;32mif\u001b[0m \u001b[0mresponse\u001b[0m\u001b[0;34m:\u001b[0m\u001b[0;34m\u001b[0m\u001b[0;34m\u001b[0m\u001b[0m\n\u001b[0;32m--> 430\u001b[0;31m             \u001b[0mself\u001b[0m\u001b[0;34m.\u001b[0m\u001b[0merror_handler\u001b[0m\u001b[0;34m.\u001b[0m\u001b[0mcheck_response\u001b[0m\u001b[0;34m(\u001b[0m\u001b[0mresponse\u001b[0m\u001b[0;34m)\u001b[0m\u001b[0;34m\u001b[0m\u001b[0;34m\u001b[0m\u001b[0m\n\u001b[0m\u001b[1;32m    431\u001b[0m             response['value'] = self._unwrap_value(\n\u001b[1;32m    432\u001b[0m                 response.get('value', None))\n",
      "\u001b[0;32m/opt/anaconda3/lib/python3.9/site-packages/selenium/webdriver/remote/errorhandler.py\u001b[0m in \u001b[0;36mcheck_response\u001b[0;34m(self, response)\u001b[0m\n\u001b[1;32m    245\u001b[0m                 \u001b[0malert_text\u001b[0m \u001b[0;34m=\u001b[0m \u001b[0mvalue\u001b[0m\u001b[0;34m[\u001b[0m\u001b[0;34m'alert'\u001b[0m\u001b[0;34m]\u001b[0m\u001b[0;34m.\u001b[0m\u001b[0mget\u001b[0m\u001b[0;34m(\u001b[0m\u001b[0;34m'text'\u001b[0m\u001b[0;34m)\u001b[0m\u001b[0;34m\u001b[0m\u001b[0;34m\u001b[0m\u001b[0m\n\u001b[1;32m    246\u001b[0m             \u001b[0;32mraise\u001b[0m \u001b[0mexception_class\u001b[0m\u001b[0;34m(\u001b[0m\u001b[0mmessage\u001b[0m\u001b[0;34m,\u001b[0m \u001b[0mscreen\u001b[0m\u001b[0;34m,\u001b[0m \u001b[0mstacktrace\u001b[0m\u001b[0;34m,\u001b[0m \u001b[0malert_text\u001b[0m\u001b[0;34m)\u001b[0m  \u001b[0;31m# type: ignore[call-arg]  # mypy is not smart enough here\u001b[0m\u001b[0;34m\u001b[0m\u001b[0;34m\u001b[0m\u001b[0m\n\u001b[0;32m--> 247\u001b[0;31m         \u001b[0;32mraise\u001b[0m \u001b[0mexception_class\u001b[0m\u001b[0;34m(\u001b[0m\u001b[0mmessage\u001b[0m\u001b[0;34m,\u001b[0m \u001b[0mscreen\u001b[0m\u001b[0;34m,\u001b[0m \u001b[0mstacktrace\u001b[0m\u001b[0;34m)\u001b[0m\u001b[0;34m\u001b[0m\u001b[0;34m\u001b[0m\u001b[0m\n\u001b[0m\u001b[1;32m    248\u001b[0m \u001b[0;34m\u001b[0m\u001b[0m\n\u001b[1;32m    249\u001b[0m     \u001b[0;32mdef\u001b[0m \u001b[0m_value_or_default\u001b[0m\u001b[0;34m(\u001b[0m\u001b[0mself\u001b[0m\u001b[0;34m,\u001b[0m \u001b[0mobj\u001b[0m\u001b[0;34m:\u001b[0m \u001b[0mMapping\u001b[0m\u001b[0;34m[\u001b[0m\u001b[0m_KT\u001b[0m\u001b[0;34m,\u001b[0m \u001b[0m_VT\u001b[0m\u001b[0;34m]\u001b[0m\u001b[0;34m,\u001b[0m \u001b[0mkey\u001b[0m\u001b[0;34m:\u001b[0m \u001b[0m_KT\u001b[0m\u001b[0;34m,\u001b[0m \u001b[0mdefault\u001b[0m\u001b[0;34m:\u001b[0m \u001b[0m_VT\u001b[0m\u001b[0;34m)\u001b[0m \u001b[0;34m->\u001b[0m \u001b[0m_VT\u001b[0m\u001b[0;34m:\u001b[0m\u001b[0;34m\u001b[0m\u001b[0;34m\u001b[0m\u001b[0m\n",
      "\u001b[0;31mWebDriverException\u001b[0m: Message: TypeError: browsingContext.currentWindowGlobal is null\nStacktrace:\ngetMarionetteCommandsActorProxy/get/<@chrome://remote/content/marionette/actors/MarionetteCommandsParent.jsm:332:29\n"
     ]
    }
   ],
   "source": [
    "from selenium import webdriver\n",
    "from selenium.webdriver.support.ui import WebDriverWait\n",
    "from selenium.webdriver.support import expected_conditions as EC\n",
    "from selenium.common.exceptions import TimeoutException\n",
    "from selenium.webdriver.common.by import By\n",
    "\n",
    "url = \"https://www.leboncoin.fr/sports_hobbies/1536839557.htm/\"\n",
    "\n",
    "driver = webdriver.Firefox()\n",
    "driver.implicitly_wait(30)\n",
    "driver.get(url)\n",
    "\n",
    "python_button = driver.find_elements_by_xpath('//div[@data-reactid=\"269\"]')[0]\n",
    "python_button.click()\n",
    "\n",
    "# And then we use Beautiful soup\n",
    "soup = BeautifulSoup(driver.page_source)\n",
    "\n",
    "driver.close()\n",
    "\n",
    "for elem in soup.find_all(\"a\", attrs={\"data-qa-id\": \"adview_number_phone_contact\"}):\n",
    "    print(elem.text)"
   ]
  },
  {
   "cell_type": "markdown",
   "metadata": {},
   "source": [
    "### Starting from *leboncoin*, collect all the information available to define the product being sold. Use `selenium` for the telephone number."
   ]
  },
  {
   "cell_type": "code",
   "execution_count": 17,
   "metadata": {},
   "outputs": [
    {
     "name": "stdout",
     "output_type": "stream",
     "text": [
      "tel:+32 2 733 00 00\n"
     ]
    }
   ],
   "source": [
    "from selenium import webdriver\n",
    "from selenium.webdriver.support.ui import WebDriverWait\n",
    "from selenium.webdriver.support import expected_conditions as EC\n",
    "from selenium.common.exceptions import TimeoutException\n",
    "from selenium.webdriver.common.by import By\n",
    "\n",
    "\n",
    "url = \"https://www.immoweb.be/en/classified/apartment/for-rent/schaerbeek/1030/9901286?searchId=627a574b63a1a\"\n",
    "\n",
    "driver = webdriver.Firefox()\n",
    "driver.implicitly_wait(30)\n",
    "driver.get(url)\n",
    "\n",
    "keep_browsing = driver.find_element(By.ID,'uc-btn-accept-banner')\n",
    "keep_browsing.click()\n",
    "contact_phone = driver.find_elements(by=By.XPATH, value='//*[@id=\"customer-card\"]/div[2]/div[2]/button[2]')[0]\n",
    "contact_phone.click()\n",
    "\n",
    "## And then we use Beautiful soup\n",
    "soup = BeautifulSoup(driver.page_source)\n",
    "\n",
    "#driver.close()\n",
    "\n",
    "for elem in soup.find_all(\"a\", {'class' : 'button button--secondary'}):\n",
    "    href = elem.get('href')\n",
    "    print(href)\n",
    "\n"
   ]
  },
  {
   "cell_type": "markdown",
   "metadata": {},
   "source": [
    "### API (Application Program Interface)"
   ]
  },
  {
   "cell_type": "markdown",
   "metadata": {},
   "source": []
  },
  {
   "cell_type": "markdown",
   "metadata": {},
   "source": [
    "A set of tools and methods that allow different applications to interact with each other. In the case of a web service, we can retrieve data dynamically. By using an API correctly, we can thus obtain in real time, the modifications made on a \"parent\" site.\n",
    "\n",
    "For example, we will retrieve online news, for example from the \"L'équipe\" website."
   ]
  },
  {
   "cell_type": "markdown",
   "metadata": {},
   "source": [
    "Follow the instructions at https://newsapi.org/s/lequipe-api to retrieve an \"API key\" connection key"
   ]
  },
  {
   "cell_type": "markdown",
   "metadata": {},
   "source": [
    "Your API key is: `73bbb95f8ecb49b499113a46481b4af1`\n",
    "\n",
    "\n",
    "It is frequent that a key does not work after a while (e.g. `5 min`n `30 min`, a day, ...)\n",
    "So don't jump up if you get an error message back."
   ]
  },
  {
   "cell_type": "code",
   "execution_count": 18,
   "metadata": {},
   "outputs": [
    {
     "name": "stdout",
     "output_type": "stream",
     "text": [
      "{'status': 'ok', 'totalResults': 10, 'articles': [{'source': {'id': 'lequipe', 'name': \"L'equipe\"}, 'author': \"L'EQUIPE\", 'title': \"Christophe Galtier (entraîneur de Nice)\\xa0: «\\xa0Pas à l'heure du bilan\\xa0»\", 'description': \"À la veille de la rencontre entre Nice et Saint-Étienne, en match en retard de la 36e journée de Ligue\\xa01 mercredi (19h00), l'entraîneur du Gym Christophe Galtier a repoussé les interrogations concernant son avenir. Pour mieux se focaliser sur une rencontre cr…\", 'url': 'https://www.lequipe.fr/Football/Actualites/Christophe-galtier-entraineur-de-nice-pas-a-l-heure-du-bilan/1332298', 'urlToImage': 'https://medias.lequipe.fr/img-photo-jpg/christophe-galtier-entraineur-de-nice-en-conference-de-presse-p-lahalle-l-equipe/1500000001640586/0:0,1998:1332-640-427-75/83a0e.jpg', 'publishedAt': '2022-05-10T11:44:00+00:00', 'content': \"«\\xa0Serez-vous toujours l'entraîneur de Nice la saison prochaine et avez-vous demandé des garanties à Ineos sur les contours du futur effectif\\xa0?Avant de répondre à cette question - qui a le droit d'êtr… [+2404 chars]\"}, {'source': {'id': 'lequipe', 'name': \"L'equipe\"}, 'author': \"L'EQUIPE\", 'title': 'Primoz Roglic (Jumbo-Visma) entame sa préparation en vue du Tour de France', 'description': \"Le Slovène Primoz Roglic et neuf autres coureurs de l'équipe Jumbo-Visma ont débuté leur préparation pour le Tour ce mardi en Sierra Nevada.\", 'url': 'https://www.lequipe.fr/Cyclisme-sur-route/Actualites/Primoz-roglic-jumbo-visma-entame-sa-preparation-en-vue-du-tour-de-france/1332297', 'urlToImage': 'https://medias.lequipe.fr/img-photo-jpg/primoz-roglic-entoure-par-le-belge-wout-van-aert-et-christophe-laporte-lors-de-la-derniere-edition-d/1500000001640583/0:0,1995:1330-640-427-75/d921f.jpg', 'publishedAt': '2022-05-10T11:42:00+00:00', 'content': 'Primoz Roglic a entamé ce mardi, en Sierra Nevada, sa préparation pour le Tour de France (1er-24 juillet) par un stage en altitude de vingt jours. Handicapé par une blessure derrière le genou gauche … [+2818 chars]'}, {'source': {'id': 'lequipe', 'name': \"L'equipe\"}, 'author': \"L'EQUIPE\", 'title': \"Les finales de Coupe d'Europe 2023 auront lieu les 19 et 20\\xa0mai\", 'description': \"L'EPCR a annoncé ce mardi les grandes dates des Coupes d'Europe 2022-2023.\", 'url': 'https://www.lequipe.fr/Rugby/Actualites/Les-finales-de-coupe-d-europe-2023-auront-lieu-les-19-et-20-mai/1332295', 'urlToImage': 'https://medias.lequipe.fr/img-photo-jpg/les-coupes-d-europe-2022-2023-commenceront-en-decembre-a-martin-l-equipe/1500000001640580/0:0,1994:1330-640-427-75/5ee19.jpg', 'publishedAt': '2022-05-10T11:27:00+00:00', 'content': \"À quatre jours des demi-finales des Coupes d'Europe 2022, l'EPCR a dévoilé mardi les grandes dates des éditions 2022-2023 de ses compétitions. La Champions Cup et le Challenge européen se dérouleront… [+1254 chars]\"}, {'source': {'id': 'lequipe', 'name': \"L'equipe\"}, 'author': \"L'EQUIPE\", 'title': \"Grigor Dimitrov s'en sort au métier au premier tour du Masters 1000 de Rome\", 'description': \"Malgré une victoire en deux sets face à Brandon Nakashima (6-3, 6-4), Grigor Dimitrov a dû s'employer ce mardi pour franchir le premier tour du Masters 1000 de Rome.\", 'url': 'https://www.lequipe.fr/Tennis/Actualites/Grigor-dimitrov-s-en-sort-au-metier-au-premier-tour-du-masters-1000-de-rome/1332293', 'urlToImage': 'https://medias.lequipe.fr/img-photo-jpg/grigor-dimitrov-a-fait-parler-son-experience-g-mangipane-reuters/1500000001640576/0:0,1995:1330-640-427-75/0d50b.jpg', 'publishedAt': '2022-05-10T11:24:00+00:00', 'content': \"Le score peut sembler assez sec, mais Grigor Dimitrov n'a pas vécu une promenade de santé face à Brandon Nakashima (6-3, 6-4). En effet, les deux hommes sont restés très proches durant toute la durée… [+768 chars]\"}, {'source': {'id': 'lequipe', 'name': \"L'equipe\"}, 'author': \"L'EQUIPE\", 'title': 'Les pistes du CDES sur les enjeux du sport de demain', 'description': \"Une étude sur les enjeux du sport de demain, réalisée par le\\xa0Centre de droit et d'économie du sport de Limoges (CDES) et présentée lundi, donne des pistes pour repenser sa place dans la société et sa gouvernance.\", 'url': 'https://www.lequipe.fr/Tous-sports/Actualites/Les-pistes-du-cdes-sur-les-enjeux-du-sport-de-demain/1332289', 'urlToImage': 'https://medias.lequipe.fr/img-photo-jpg/l-etude-du-cdes-confirme-l-essor-d-un-sport-moins-encadre-synonyme-de-plaisir-et-bien-etre-f-seguin-/1500000001640570/0:0,1995:1330-640-427-75/58990.jpg', 'publishedAt': '2022-05-10T11:02:00+00:00', 'content': \"À vaste sujet, analyse conséquente. L'«\\xa0étude nationale sur les besoins et les attentes des acteurs du sport\\xa0», réalisée par le Centre de droit et d'économie du sport de Limoges (CDES) et pilotée par… [+3006 chars]\"}, {'source': {'id': 'lequipe', 'name': \"L'equipe\"}, 'author': \"L'EQUIPE\", 'title': 'Jelena Ostapenko éliminée par Lauren Davis au premier tour à Rome', 'description': 'Jelena Ostapenko, 13e mondiale, a cédé au premier tour du WTA 1000 de Rome face à la qualifiée Lauren Davis (6-2, 6-3).', 'url': 'https://www.lequipe.fr/Tennis/Actualites/Jelena-ostapenko-eliminee-au-premier-tour-a-rome/1332284', 'urlToImage': 'https://medias.lequipe.fr/img-photo-jpg/jelena-ostapenko-est-dans-le-dur-n-luttiau-l-equipe/1500000001640566/227:283,1802:1333-640-427-75/eb7fd.jpg', 'publishedAt': '2022-05-10T10:37:00+00:00', 'content': \"Grosse contre-performance pour Jelena Ostapenko au premier tour du WTA 1000 de Rome. La 13e mondiale est passée à côté de son match face à la qualifiée américaine Lauren Davis (102e) et s'est incliné… [+231 chars]\"}, {'source': {'id': 'lequipe', 'name': \"L'equipe\"}, 'author': \"L'EQUIPE\", 'title': 'Caroline Marks poursuit la saison, Sally Fitzgibbons et Yago Dora wildcards pour 2023', 'description': 'La World Surf League a annoncé que Caroline Marks participera au reste de la saison 2022 grâce à une wildcard, tout comme Gabriel Medina, tandis que Sally Fitzgibbons et Yago Dora en ont reçu une pour 2023.', 'url': 'https://www.lequipe.fr/Adrenaline/Surf/Actualites/Caroline-marks-poursuit-la-saison-sally-fitzgibbons-et-yago-dora-wildcards-pour-2023/1332283', 'urlToImage': 'https://medias.lequipe.fr/img-photo-jpg/caroline-marks-a-remporte-le-rip-curl-pro-portugal-2019-l-masurel-wsl/1500000001640565/29:19,1968:1312-640-427-75/a8edb.jpg', 'publishedAt': '2022-05-10T10:20:00+00:00', 'content': \"Quant aux wildcards pour 2023, elles ont été attribuées à Sally Fitzgibbons et Yago Dora, qui n'auront donc pas à disputer les Challenger Series pour se requalifier. L'Australienne de 31 ans, trois f… [+354 chars]\"}, {'source': {'id': 'lequipe', 'name': \"L'equipe\"}, 'author': \"L'EQUIPE\", 'title': \"Pierre-Édouard Bellemare ne disputera pas le Mondial avec l'équipe de France\", 'description': \"Le sélectionneur Philippe Bozon a précisé lundi que Pierre-Édouard Bellemare ne participerait pas au Mondial avec l'équipe de France, même en cas d'élimination de son équipe de Tampa Bay en play-offs de NHL.\", 'url': 'https://www.lequipe.fr/Hockey-sur-glace/Actualites/Pierre-edouard-bellemare-ne-disputera-pas-le-mondial-avec-l-equipe-de-france/1332282', 'urlToImage': 'https://medias.lequipe.fr/img-photo-jpg/pierre-edouard-bellemare-au-centre-lors-du-tournoi-de-qualification-olympique-l-an-passe-ne-particip/1500000001640564/0:0,1995:1330-640-427-75/fbfbc.jpg', 'publishedAt': '2022-05-10T10:19:00+00:00', 'content': \"Philippe Bozon, le sélectionneur des Bleus, a répondu aux questions de la presse en visioconférence, à quelques jours de l'entrée en lice de l'équipe de France au Championnat du monde, vendredi à Hel… [+1623 chars]\"}, {'source': {'id': 'lequipe', 'name': \"L'equipe\"}, 'author': \"L'EQUIPE\", 'title': \"Sébastien Bouin confirme son 9c historique\\xa0: «\\xa0Essayer quelque chose d'encore plus dur\\xa0»\", 'description': 'À 29 ans, le Français Sébastien Bouin assure avoir réussi fin avril un 9c, soit le plus haut niveau jamais réalisé en escalade, avec la voie appelée «\\xa0DNA\\xa0», dans le Verdon. Il revient sur cette ascension historique et se projette sur le niveau supérieur, iné…', 'url': 'https://www.lequipe.fr/Adrenaline/Escalade/Actualites/Sebastien-bouin-confirme-son-9c-historique-essayer-quelque-chose-d-encore-plus-dur/1332201', 'urlToImage': 'https://medias.lequipe.fr/img-photo-jpg/-/1500000001640392/34:875,1974:2168-640-427-75/cdd96.jpg', 'publishedAt': '2022-05-10T10:00:00+00:00', 'content': \"«\\xa0Vous avez mis quelques jours avant d'annoncer publiquement ce 9c (le plus haut niveau au monde en escalade), pourquoi\\xa0?J'ai pris le temps pour réfléchir sur la cotation que j'allais proposer (en es… [+4873 chars]\"}, {'source': {'id': 'lequipe', 'name': \"L'equipe\"}, 'author': \"L'EQUIPE\", 'title': 'Le retour de Tom Brady a bouleversé le calendrier de la NFL', 'description': \"Après la sortie de retraite de Tom Brady, les responsables du calendrier de la NFL ont dû relancer tout le processus d'élaboration du programme de la saison 2022.\", 'url': 'https://www.lequipe.fr/Football-americain/Actualites/Le-retour-de-tom-brady-a-bouleverse-le-calendrier-de-la-nfl/1332278', 'urlToImage': 'https://medias.lequipe.fr/img-photo-jpg/avec-tom-brady-dans-l-effectif-comme-ici-la-saison-passee-les-matches-des-tampa-bay-buccaneers-devie/1500000001640556/0:0,1995:1330-640-427-75/9ab8d.jpg', 'publishedAt': '2022-05-10T09:52:00+00:00', 'content': \"L'élaboration du calendrier de la NFL est un travail de dentelière, avec un nombre de matches limité qui ne permet pas à toutes les équipes de se rencontrer, de multiples diffuseurs et les contrainte… [+1250 chars]\"}]}\n"
     ]
    }
   ],
   "source": [
    "import requests\n",
    "\n",
    "key = \"73bbb95f8ecb49b499113a46481b4af1\"\n",
    "url = \"https://newsapi.org/v2/top-headlines?sources=lequipe&apiKey=\" + key\n",
    "response = requests.get(url)\n",
    "\n",
    "# Here the response format is a json file, it is used as a dictionary\n",
    "print(response.json())"
   ]
  },
  {
   "cell_type": "code",
   "execution_count": 19,
   "metadata": {},
   "outputs": [
    {
     "name": "stdout",
     "output_type": "stream",
     "text": [
      "dict_keys(['status', 'totalResults', 'articles'])\n"
     ]
    }
   ],
   "source": [
    "dictionnary = response.json()\n",
    "print(dictionnary.keys())"
   ]
  },
  {
   "cell_type": "code",
   "execution_count": 20,
   "metadata": {},
   "outputs": [
    {
     "name": "stdout",
     "output_type": "stream",
     "text": [
      "##############################################\n",
      "Key:  status // Values:  ok\n",
      "##############################################\n",
      "Key:  totalResults // Values:  10\n",
      "##############################################\n",
      "Key:  articles // Values:  [{'source': {'id': 'lequipe', 'name': \"L'equipe\"}, 'author': \"L'EQUIPE\", 'title': \"Christophe Galtier (entraîneur de Nice)\\xa0: «\\xa0Pas à l'heure du bilan\\xa0»\", 'description': \"À la veille de la rencontre entre Nice et Saint-Étienne, en match en retard de la 36e journée de Ligue\\xa01 mercredi (19h00), l'entraîneur du Gym Christophe Galtier a repoussé les interrogations concernant son avenir. Pour mieux se focaliser sur une rencontre cr…\", 'url': 'https://www.lequipe.fr/Football/Actualites/Christophe-galtier-entraineur-de-nice-pas-a-l-heure-du-bilan/1332298', 'urlToImage': 'https://medias.lequipe.fr/img-photo-jpg/christophe-galtier-entraineur-de-nice-en-conference-de-presse-p-lahalle-l-equipe/1500000001640586/0:0,1998:1332-640-427-75/83a0e.jpg', 'publishedAt': '2022-05-10T11:44:00+00:00', 'content': \"«\\xa0Serez-vous toujours l'entraîneur de Nice la saison prochaine et avez-vous demandé des garanties à Ineos sur les contours du futur effectif\\xa0?Avant de répondre à cette question - qui a le droit d'êtr… [+2404 chars]\"}, {'source': {'id': 'lequipe', 'name': \"L'equipe\"}, 'author': \"L'EQUIPE\", 'title': 'Primoz Roglic (Jumbo-Visma) entame sa préparation en vue du Tour de France', 'description': \"Le Slovène Primoz Roglic et neuf autres coureurs de l'équipe Jumbo-Visma ont débuté leur préparation pour le Tour ce mardi en Sierra Nevada.\", 'url': 'https://www.lequipe.fr/Cyclisme-sur-route/Actualites/Primoz-roglic-jumbo-visma-entame-sa-preparation-en-vue-du-tour-de-france/1332297', 'urlToImage': 'https://medias.lequipe.fr/img-photo-jpg/primoz-roglic-entoure-par-le-belge-wout-van-aert-et-christophe-laporte-lors-de-la-derniere-edition-d/1500000001640583/0:0,1995:1330-640-427-75/d921f.jpg', 'publishedAt': '2022-05-10T11:42:00+00:00', 'content': 'Primoz Roglic a entamé ce mardi, en Sierra Nevada, sa préparation pour le Tour de France (1er-24 juillet) par un stage en altitude de vingt jours. Handicapé par une blessure derrière le genou gauche … [+2818 chars]'}, {'source': {'id': 'lequipe', 'name': \"L'equipe\"}, 'author': \"L'EQUIPE\", 'title': \"Les finales de Coupe d'Europe 2023 auront lieu les 19 et 20\\xa0mai\", 'description': \"L'EPCR a annoncé ce mardi les grandes dates des Coupes d'Europe 2022-2023.\", 'url': 'https://www.lequipe.fr/Rugby/Actualites/Les-finales-de-coupe-d-europe-2023-auront-lieu-les-19-et-20-mai/1332295', 'urlToImage': 'https://medias.lequipe.fr/img-photo-jpg/les-coupes-d-europe-2022-2023-commenceront-en-decembre-a-martin-l-equipe/1500000001640580/0:0,1994:1330-640-427-75/5ee19.jpg', 'publishedAt': '2022-05-10T11:27:00+00:00', 'content': \"À quatre jours des demi-finales des Coupes d'Europe 2022, l'EPCR a dévoilé mardi les grandes dates des éditions 2022-2023 de ses compétitions. La Champions Cup et le Challenge européen se dérouleront… [+1254 chars]\"}, {'source': {'id': 'lequipe', 'name': \"L'equipe\"}, 'author': \"L'EQUIPE\", 'title': \"Grigor Dimitrov s'en sort au métier au premier tour du Masters 1000 de Rome\", 'description': \"Malgré une victoire en deux sets face à Brandon Nakashima (6-3, 6-4), Grigor Dimitrov a dû s'employer ce mardi pour franchir le premier tour du Masters 1000 de Rome.\", 'url': 'https://www.lequipe.fr/Tennis/Actualites/Grigor-dimitrov-s-en-sort-au-metier-au-premier-tour-du-masters-1000-de-rome/1332293', 'urlToImage': 'https://medias.lequipe.fr/img-photo-jpg/grigor-dimitrov-a-fait-parler-son-experience-g-mangipane-reuters/1500000001640576/0:0,1995:1330-640-427-75/0d50b.jpg', 'publishedAt': '2022-05-10T11:24:00+00:00', 'content': \"Le score peut sembler assez sec, mais Grigor Dimitrov n'a pas vécu une promenade de santé face à Brandon Nakashima (6-3, 6-4). En effet, les deux hommes sont restés très proches durant toute la durée… [+768 chars]\"}, {'source': {'id': 'lequipe', 'name': \"L'equipe\"}, 'author': \"L'EQUIPE\", 'title': 'Les pistes du CDES sur les enjeux du sport de demain', 'description': \"Une étude sur les enjeux du sport de demain, réalisée par le\\xa0Centre de droit et d'économie du sport de Limoges (CDES) et présentée lundi, donne des pistes pour repenser sa place dans la société et sa gouvernance.\", 'url': 'https://www.lequipe.fr/Tous-sports/Actualites/Les-pistes-du-cdes-sur-les-enjeux-du-sport-de-demain/1332289', 'urlToImage': 'https://medias.lequipe.fr/img-photo-jpg/l-etude-du-cdes-confirme-l-essor-d-un-sport-moins-encadre-synonyme-de-plaisir-et-bien-etre-f-seguin-/1500000001640570/0:0,1995:1330-640-427-75/58990.jpg', 'publishedAt': '2022-05-10T11:02:00+00:00', 'content': \"À vaste sujet, analyse conséquente. L'«\\xa0étude nationale sur les besoins et les attentes des acteurs du sport\\xa0», réalisée par le Centre de droit et d'économie du sport de Limoges (CDES) et pilotée par… [+3006 chars]\"}, {'source': {'id': 'lequipe', 'name': \"L'equipe\"}, 'author': \"L'EQUIPE\", 'title': 'Jelena Ostapenko éliminée par Lauren Davis au premier tour à Rome', 'description': 'Jelena Ostapenko, 13e mondiale, a cédé au premier tour du WTA 1000 de Rome face à la qualifiée Lauren Davis (6-2, 6-3).', 'url': 'https://www.lequipe.fr/Tennis/Actualites/Jelena-ostapenko-eliminee-au-premier-tour-a-rome/1332284', 'urlToImage': 'https://medias.lequipe.fr/img-photo-jpg/jelena-ostapenko-est-dans-le-dur-n-luttiau-l-equipe/1500000001640566/227:283,1802:1333-640-427-75/eb7fd.jpg', 'publishedAt': '2022-05-10T10:37:00+00:00', 'content': \"Grosse contre-performance pour Jelena Ostapenko au premier tour du WTA 1000 de Rome. La 13e mondiale est passée à côté de son match face à la qualifiée américaine Lauren Davis (102e) et s'est incliné… [+231 chars]\"}, {'source': {'id': 'lequipe', 'name': \"L'equipe\"}, 'author': \"L'EQUIPE\", 'title': 'Caroline Marks poursuit la saison, Sally Fitzgibbons et Yago Dora wildcards pour 2023', 'description': 'La World Surf League a annoncé que Caroline Marks participera au reste de la saison 2022 grâce à une wildcard, tout comme Gabriel Medina, tandis que Sally Fitzgibbons et Yago Dora en ont reçu une pour 2023.', 'url': 'https://www.lequipe.fr/Adrenaline/Surf/Actualites/Caroline-marks-poursuit-la-saison-sally-fitzgibbons-et-yago-dora-wildcards-pour-2023/1332283', 'urlToImage': 'https://medias.lequipe.fr/img-photo-jpg/caroline-marks-a-remporte-le-rip-curl-pro-portugal-2019-l-masurel-wsl/1500000001640565/29:19,1968:1312-640-427-75/a8edb.jpg', 'publishedAt': '2022-05-10T10:20:00+00:00', 'content': \"Quant aux wildcards pour 2023, elles ont été attribuées à Sally Fitzgibbons et Yago Dora, qui n'auront donc pas à disputer les Challenger Series pour se requalifier. L'Australienne de 31 ans, trois f… [+354 chars]\"}, {'source': {'id': 'lequipe', 'name': \"L'equipe\"}, 'author': \"L'EQUIPE\", 'title': \"Pierre-Édouard Bellemare ne disputera pas le Mondial avec l'équipe de France\", 'description': \"Le sélectionneur Philippe Bozon a précisé lundi que Pierre-Édouard Bellemare ne participerait pas au Mondial avec l'équipe de France, même en cas d'élimination de son équipe de Tampa Bay en play-offs de NHL.\", 'url': 'https://www.lequipe.fr/Hockey-sur-glace/Actualites/Pierre-edouard-bellemare-ne-disputera-pas-le-mondial-avec-l-equipe-de-france/1332282', 'urlToImage': 'https://medias.lequipe.fr/img-photo-jpg/pierre-edouard-bellemare-au-centre-lors-du-tournoi-de-qualification-olympique-l-an-passe-ne-particip/1500000001640564/0:0,1995:1330-640-427-75/fbfbc.jpg', 'publishedAt': '2022-05-10T10:19:00+00:00', 'content': \"Philippe Bozon, le sélectionneur des Bleus, a répondu aux questions de la presse en visioconférence, à quelques jours de l'entrée en lice de l'équipe de France au Championnat du monde, vendredi à Hel… [+1623 chars]\"}, {'source': {'id': 'lequipe', 'name': \"L'equipe\"}, 'author': \"L'EQUIPE\", 'title': \"Sébastien Bouin confirme son 9c historique\\xa0: «\\xa0Essayer quelque chose d'encore plus dur\\xa0»\", 'description': 'À 29 ans, le Français Sébastien Bouin assure avoir réussi fin avril un 9c, soit le plus haut niveau jamais réalisé en escalade, avec la voie appelée «\\xa0DNA\\xa0», dans le Verdon. Il revient sur cette ascension historique et se projette sur le niveau supérieur, iné…', 'url': 'https://www.lequipe.fr/Adrenaline/Escalade/Actualites/Sebastien-bouin-confirme-son-9c-historique-essayer-quelque-chose-d-encore-plus-dur/1332201', 'urlToImage': 'https://medias.lequipe.fr/img-photo-jpg/-/1500000001640392/34:875,1974:2168-640-427-75/cdd96.jpg', 'publishedAt': '2022-05-10T10:00:00+00:00', 'content': \"«\\xa0Vous avez mis quelques jours avant d'annoncer publiquement ce 9c (le plus haut niveau au monde en escalade), pourquoi\\xa0?J'ai pris le temps pour réfléchir sur la cotation que j'allais proposer (en es… [+4873 chars]\"}, {'source': {'id': 'lequipe', 'name': \"L'equipe\"}, 'author': \"L'EQUIPE\", 'title': 'Le retour de Tom Brady a bouleversé le calendrier de la NFL', 'description': \"Après la sortie de retraite de Tom Brady, les responsables du calendrier de la NFL ont dû relancer tout le processus d'élaboration du programme de la saison 2022.\", 'url': 'https://www.lequipe.fr/Football-americain/Actualites/Le-retour-de-tom-brady-a-bouleverse-le-calendrier-de-la-nfl/1332278', 'urlToImage': 'https://medias.lequipe.fr/img-photo-jpg/avec-tom-brady-dans-l-effectif-comme-ici-la-saison-passee-les-matches-des-tampa-bay-buccaneers-devie/1500000001640556/0:0,1995:1330-640-427-75/9ab8d.jpg', 'publishedAt': '2022-05-10T09:52:00+00:00', 'content': \"L'élaboration du calendrier de la NFL est un travail de dentelière, avec un nombre de matches limité qui ne permet pas à toutes les équipes de se rencontrer, de multiples diffuseurs et les contrainte… [+1250 chars]\"}]\n"
     ]
    }
   ],
   "source": [
    "for element in list(dictionnary.keys()):\n",
    "    print(\"##############################################\")\n",
    "    print(\"Key: \", element, \"// Values: \", dictionnary[element])"
   ]
  },
  {
   "cell_type": "code",
   "execution_count": 21,
   "metadata": {},
   "outputs": [
    {
     "name": "stdout",
     "output_type": "stream",
     "text": [
      "###############################################\n",
      "(0, {'source': {'id': 'lequipe', 'name': \"L'equipe\"}, 'author': \"L'EQUIPE\", 'title': \"Christophe Galtier (entraîneur de Nice)\\xa0: «\\xa0Pas à l'heure du bilan\\xa0»\", 'description': \"À la veille de la rencontre entre Nice et Saint-Étienne, en match en retard de la 36e journée de Ligue\\xa01 mercredi (19h00), l'entraîneur du Gym Christophe Galtier a repoussé les interrogations concernant son avenir. Pour mieux se focaliser sur une rencontre cr…\", 'url': 'https://www.lequipe.fr/Football/Actualites/Christophe-galtier-entraineur-de-nice-pas-a-l-heure-du-bilan/1332298', 'urlToImage': 'https://medias.lequipe.fr/img-photo-jpg/christophe-galtier-entraineur-de-nice-en-conference-de-presse-p-lahalle-l-equipe/1500000001640586/0:0,1998:1332-640-427-75/83a0e.jpg', 'publishedAt': '2022-05-10T11:44:00+00:00', 'content': \"«\\xa0Serez-vous toujours l'entraîneur de Nice la saison prochaine et avez-vous demandé des garanties à Ineos sur les contours du futur effectif\\xa0?Avant de répondre à cette question - qui a le droit d'êtr… [+2404 chars]\"})\n",
      "###############################################\n",
      "(1, {'source': {'id': 'lequipe', 'name': \"L'equipe\"}, 'author': \"L'EQUIPE\", 'title': 'Primoz Roglic (Jumbo-Visma) entame sa préparation en vue du Tour de France', 'description': \"Le Slovène Primoz Roglic et neuf autres coureurs de l'équipe Jumbo-Visma ont débuté leur préparation pour le Tour ce mardi en Sierra Nevada.\", 'url': 'https://www.lequipe.fr/Cyclisme-sur-route/Actualites/Primoz-roglic-jumbo-visma-entame-sa-preparation-en-vue-du-tour-de-france/1332297', 'urlToImage': 'https://medias.lequipe.fr/img-photo-jpg/primoz-roglic-entoure-par-le-belge-wout-van-aert-et-christophe-laporte-lors-de-la-derniere-edition-d/1500000001640583/0:0,1995:1330-640-427-75/d921f.jpg', 'publishedAt': '2022-05-10T11:42:00+00:00', 'content': 'Primoz Roglic a entamé ce mardi, en Sierra Nevada, sa préparation pour le Tour de France (1er-24 juillet) par un stage en altitude de vingt jours. Handicapé par une blessure derrière le genou gauche … [+2818 chars]'})\n",
      "###############################################\n",
      "(2, {'source': {'id': 'lequipe', 'name': \"L'equipe\"}, 'author': \"L'EQUIPE\", 'title': \"Les finales de Coupe d'Europe 2023 auront lieu les 19 et 20\\xa0mai\", 'description': \"L'EPCR a annoncé ce mardi les grandes dates des Coupes d'Europe 2022-2023.\", 'url': 'https://www.lequipe.fr/Rugby/Actualites/Les-finales-de-coupe-d-europe-2023-auront-lieu-les-19-et-20-mai/1332295', 'urlToImage': 'https://medias.lequipe.fr/img-photo-jpg/les-coupes-d-europe-2022-2023-commenceront-en-decembre-a-martin-l-equipe/1500000001640580/0:0,1994:1330-640-427-75/5ee19.jpg', 'publishedAt': '2022-05-10T11:27:00+00:00', 'content': \"À quatre jours des demi-finales des Coupes d'Europe 2022, l'EPCR a dévoilé mardi les grandes dates des éditions 2022-2023 de ses compétitions. La Champions Cup et le Challenge européen se dérouleront… [+1254 chars]\"})\n",
      "###############################################\n",
      "(3, {'source': {'id': 'lequipe', 'name': \"L'equipe\"}, 'author': \"L'EQUIPE\", 'title': \"Grigor Dimitrov s'en sort au métier au premier tour du Masters 1000 de Rome\", 'description': \"Malgré une victoire en deux sets face à Brandon Nakashima (6-3, 6-4), Grigor Dimitrov a dû s'employer ce mardi pour franchir le premier tour du Masters 1000 de Rome.\", 'url': 'https://www.lequipe.fr/Tennis/Actualites/Grigor-dimitrov-s-en-sort-au-metier-au-premier-tour-du-masters-1000-de-rome/1332293', 'urlToImage': 'https://medias.lequipe.fr/img-photo-jpg/grigor-dimitrov-a-fait-parler-son-experience-g-mangipane-reuters/1500000001640576/0:0,1995:1330-640-427-75/0d50b.jpg', 'publishedAt': '2022-05-10T11:24:00+00:00', 'content': \"Le score peut sembler assez sec, mais Grigor Dimitrov n'a pas vécu une promenade de santé face à Brandon Nakashima (6-3, 6-4). En effet, les deux hommes sont restés très proches durant toute la durée… [+768 chars]\"})\n",
      "###############################################\n",
      "(4, {'source': {'id': 'lequipe', 'name': \"L'equipe\"}, 'author': \"L'EQUIPE\", 'title': 'Les pistes du CDES sur les enjeux du sport de demain', 'description': \"Une étude sur les enjeux du sport de demain, réalisée par le\\xa0Centre de droit et d'économie du sport de Limoges (CDES) et présentée lundi, donne des pistes pour repenser sa place dans la société et sa gouvernance.\", 'url': 'https://www.lequipe.fr/Tous-sports/Actualites/Les-pistes-du-cdes-sur-les-enjeux-du-sport-de-demain/1332289', 'urlToImage': 'https://medias.lequipe.fr/img-photo-jpg/l-etude-du-cdes-confirme-l-essor-d-un-sport-moins-encadre-synonyme-de-plaisir-et-bien-etre-f-seguin-/1500000001640570/0:0,1995:1330-640-427-75/58990.jpg', 'publishedAt': '2022-05-10T11:02:00+00:00', 'content': \"À vaste sujet, analyse conséquente. L'«\\xa0étude nationale sur les besoins et les attentes des acteurs du sport\\xa0», réalisée par le Centre de droit et d'économie du sport de Limoges (CDES) et pilotée par… [+3006 chars]\"})\n",
      "###############################################\n",
      "(5, {'source': {'id': 'lequipe', 'name': \"L'equipe\"}, 'author': \"L'EQUIPE\", 'title': 'Jelena Ostapenko éliminée par Lauren Davis au premier tour à Rome', 'description': 'Jelena Ostapenko, 13e mondiale, a cédé au premier tour du WTA 1000 de Rome face à la qualifiée Lauren Davis (6-2, 6-3).', 'url': 'https://www.lequipe.fr/Tennis/Actualites/Jelena-ostapenko-eliminee-au-premier-tour-a-rome/1332284', 'urlToImage': 'https://medias.lequipe.fr/img-photo-jpg/jelena-ostapenko-est-dans-le-dur-n-luttiau-l-equipe/1500000001640566/227:283,1802:1333-640-427-75/eb7fd.jpg', 'publishedAt': '2022-05-10T10:37:00+00:00', 'content': \"Grosse contre-performance pour Jelena Ostapenko au premier tour du WTA 1000 de Rome. La 13e mondiale est passée à côté de son match face à la qualifiée américaine Lauren Davis (102e) et s'est incliné… [+231 chars]\"})\n",
      "###############################################\n",
      "(6, {'source': {'id': 'lequipe', 'name': \"L'equipe\"}, 'author': \"L'EQUIPE\", 'title': 'Caroline Marks poursuit la saison, Sally Fitzgibbons et Yago Dora wildcards pour 2023', 'description': 'La World Surf League a annoncé que Caroline Marks participera au reste de la saison 2022 grâce à une wildcard, tout comme Gabriel Medina, tandis que Sally Fitzgibbons et Yago Dora en ont reçu une pour 2023.', 'url': 'https://www.lequipe.fr/Adrenaline/Surf/Actualites/Caroline-marks-poursuit-la-saison-sally-fitzgibbons-et-yago-dora-wildcards-pour-2023/1332283', 'urlToImage': 'https://medias.lequipe.fr/img-photo-jpg/caroline-marks-a-remporte-le-rip-curl-pro-portugal-2019-l-masurel-wsl/1500000001640565/29:19,1968:1312-640-427-75/a8edb.jpg', 'publishedAt': '2022-05-10T10:20:00+00:00', 'content': \"Quant aux wildcards pour 2023, elles ont été attribuées à Sally Fitzgibbons et Yago Dora, qui n'auront donc pas à disputer les Challenger Series pour se requalifier. L'Australienne de 31 ans, trois f… [+354 chars]\"})\n",
      "###############################################\n",
      "(7, {'source': {'id': 'lequipe', 'name': \"L'equipe\"}, 'author': \"L'EQUIPE\", 'title': \"Pierre-Édouard Bellemare ne disputera pas le Mondial avec l'équipe de France\", 'description': \"Le sélectionneur Philippe Bozon a précisé lundi que Pierre-Édouard Bellemare ne participerait pas au Mondial avec l'équipe de France, même en cas d'élimination de son équipe de Tampa Bay en play-offs de NHL.\", 'url': 'https://www.lequipe.fr/Hockey-sur-glace/Actualites/Pierre-edouard-bellemare-ne-disputera-pas-le-mondial-avec-l-equipe-de-france/1332282', 'urlToImage': 'https://medias.lequipe.fr/img-photo-jpg/pierre-edouard-bellemare-au-centre-lors-du-tournoi-de-qualification-olympique-l-an-passe-ne-particip/1500000001640564/0:0,1995:1330-640-427-75/fbfbc.jpg', 'publishedAt': '2022-05-10T10:19:00+00:00', 'content': \"Philippe Bozon, le sélectionneur des Bleus, a répondu aux questions de la presse en visioconférence, à quelques jours de l'entrée en lice de l'équipe de France au Championnat du monde, vendredi à Hel… [+1623 chars]\"})\n",
      "###############################################\n",
      "(8, {'source': {'id': 'lequipe', 'name': \"L'equipe\"}, 'author': \"L'EQUIPE\", 'title': \"Sébastien Bouin confirme son 9c historique\\xa0: «\\xa0Essayer quelque chose d'encore plus dur\\xa0»\", 'description': 'À 29 ans, le Français Sébastien Bouin assure avoir réussi fin avril un 9c, soit le plus haut niveau jamais réalisé en escalade, avec la voie appelée «\\xa0DNA\\xa0», dans le Verdon. Il revient sur cette ascension historique et se projette sur le niveau supérieur, iné…', 'url': 'https://www.lequipe.fr/Adrenaline/Escalade/Actualites/Sebastien-bouin-confirme-son-9c-historique-essayer-quelque-chose-d-encore-plus-dur/1332201', 'urlToImage': 'https://medias.lequipe.fr/img-photo-jpg/-/1500000001640392/34:875,1974:2168-640-427-75/cdd96.jpg', 'publishedAt': '2022-05-10T10:00:00+00:00', 'content': \"«\\xa0Vous avez mis quelques jours avant d'annoncer publiquement ce 9c (le plus haut niveau au monde en escalade), pourquoi\\xa0?J'ai pris le temps pour réfléchir sur la cotation que j'allais proposer (en es… [+4873 chars]\"})\n",
      "###############################################\n",
      "(9, {'source': {'id': 'lequipe', 'name': \"L'equipe\"}, 'author': \"L'EQUIPE\", 'title': 'Le retour de Tom Brady a bouleversé le calendrier de la NFL', 'description': \"Après la sortie de retraite de Tom Brady, les responsables du calendrier de la NFL ont dû relancer tout le processus d'élaboration du programme de la saison 2022.\", 'url': 'https://www.lequipe.fr/Football-americain/Actualites/Le-retour-de-tom-brady-a-bouleverse-le-calendrier-de-la-nfl/1332278', 'urlToImage': 'https://medias.lequipe.fr/img-photo-jpg/avec-tom-brady-dans-l-effectif-comme-ici-la-saison-passee-les-matches-des-tampa-bay-buccaneers-devie/1500000001640556/0:0,1995:1330-640-427-75/9ab8d.jpg', 'publishedAt': '2022-05-10T09:52:00+00:00', 'content': \"L'élaboration du calendrier de la NFL est un travail de dentelière, avec un nombre de matches limité qui ne permet pas à toutes les équipes de se rencontrer, de multiples diffuseurs et les contrainte… [+1250 chars]\"})\n"
     ]
    }
   ],
   "source": [
    "# And now we have lists in dictionaries(it's a JSON file actually but it's very similar)\n",
    "# We will discover the information of the article key.\n",
    "\n",
    "for element in enumerate(dictionnary[\"articles\"]):\n",
    "    print(\"###############################################\")\n",
    "    print(element)"
   ]
  },
  {
   "cell_type": "code",
   "execution_count": 22,
   "metadata": {},
   "outputs": [
    {
     "name": "stdout",
     "output_type": "stream",
     "text": [
      " Key :  source Values :  {'id': 'lequipe', 'name': \"L'equipe\"}\n",
      " Key :  author Values :  L'EQUIPE\n",
      " Key :  title Values :  Christophe Galtier (entraîneur de Nice) : « Pas à l'heure du bilan »\n",
      " Key :  description Values :  À la veille de la rencontre entre Nice et Saint-Étienne, en match en retard de la 36e journée de Ligue 1 mercredi (19h00), l'entraîneur du Gym Christophe Galtier a repoussé les interrogations concernant son avenir. Pour mieux se focaliser sur une rencontre cr…\n",
      " Key :  url Values :  https://www.lequipe.fr/Football/Actualites/Christophe-galtier-entraineur-de-nice-pas-a-l-heure-du-bilan/1332298\n",
      " Key :  urlToImage Values :  https://medias.lequipe.fr/img-photo-jpg/christophe-galtier-entraineur-de-nice-en-conference-de-presse-p-lahalle-l-equipe/1500000001640586/0:0,1998:1332-640-427-75/83a0e.jpg\n",
      " Key :  publishedAt Values :  2022-05-10T11:44:00+00:00\n",
      " Key :  content Values :  « Serez-vous toujours l'entraîneur de Nice la saison prochaine et avez-vous demandé des garanties à Ineos sur les contours du futur effectif ?Avant de répondre à cette question - qui a le droit d'êtr… [+2404 chars]\n"
     ]
    }
   ],
   "source": [
    "# So if we keep going, it gives us another dictionary!\n",
    "for element in dictionnary[\"articles\"][0].keys():\n",
    "    print(\" Key : \", element, \"Values : \", dictionnary[\"articles\"][0][element])"
   ]
  },
  {
   "cell_type": "markdown",
   "metadata": {},
   "source": [
    "### Make a script that allows you to take details of the last ten news from the team or another site. Store them in a nice CSV or excel file."
   ]
  },
  {
   "cell_type": "code",
   "execution_count": null,
   "metadata": {},
   "outputs": [],
   "source": []
  }
 ],
 "metadata": {
  "kernelspec": {
   "display_name": "Python 3",
   "language": "python",
   "name": "python3"
  },
  "language_info": {
   "codemirror_mode": {
    "name": "ipython",
    "version": 3
   },
   "file_extension": ".py",
   "mimetype": "text/x-python",
   "name": "python",
   "nbconvert_exporter": "python",
   "pygments_lexer": "ipython3",
   "version": "3.9.7"
  }
 },
 "nbformat": 4,
 "nbformat_minor": 2
}
