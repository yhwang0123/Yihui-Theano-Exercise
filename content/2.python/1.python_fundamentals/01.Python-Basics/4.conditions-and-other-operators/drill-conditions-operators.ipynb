{
 "cells": [
  {
   "cell_type": "markdown",
   "metadata": {},
   "source": [
    "# Drill : Basics python syntax\n"
   ]
  },
  {
   "cell_type": "markdown",
   "metadata": {},
   "source": [
    "In some of these exercises, you will have to use methods that you have not seen yet. In this case, search on google for an example of use. Take the right habits to avoid being blocked"
   ]
  },
  {
   "cell_type": "markdown",
   "metadata": {},
   "source": [
    "Run all cells before starting the tests."
   ]
  },
  {
   "cell_type": "markdown",
   "metadata": {},
   "source": [
    "**1. Create a variable `age` that contains value 32**"
   ]
  },
  {
   "cell_type": "code",
   "execution_count": 2,
   "metadata": {},
   "outputs": [],
   "source": [
    "age = 32"
   ]
  },
  {
   "cell_type": "markdown",
   "metadata": {},
   "source": [
    "**2. Add 10 to variable `age`**"
   ]
  },
  {
   "cell_type": "code",
   "execution_count": 3,
   "metadata": {},
   "outputs": [],
   "source": [
    "age = age+10"
   ]
  },
  {
   "cell_type": "markdown",
   "metadata": {},
   "source": [
    "**3. Create a variable `divAge` and assign it the value of the age divided by 7**  \n",
    "- ❗ Be careful, it must be an integer."
   ]
  },
  {
   "cell_type": "code",
   "execution_count": 4,
   "metadata": {},
   "outputs": [],
   "source": [
    "divAge = int(age/7)"
   ]
  },
  {
   "cell_type": "markdown",
   "metadata": {},
   "source": [
    "**4. Create a variable `textDiv` that contains the character string \"42 divided by 7 equals 6\".**  \n",
    "- You must use the `age` and `divAge` variables"
   ]
  },
  {
   "cell_type": "code",
   "execution_count": 6,
   "metadata": {},
   "outputs": [
    {
     "name": "stdout",
     "output_type": "stream",
     "text": [
      "42 divided by 7 equals 6\n"
     ]
    }
   ],
   "source": [
    "textDiv = \"{} divided by 7 equals {}\".format(age,divAge)\n",
    "print(textDiv)"
   ]
  },
  {
   "cell_type": "markdown",
   "metadata": {},
   "source": [
    "**5. Create a variable `restDiv` that contains the rest of the variable `age` divided by 7**"
   ]
  },
  {
   "cell_type": "code",
   "execution_count": 8,
   "metadata": {},
   "outputs": [
    {
     "name": "stdout",
     "output_type": "stream",
     "text": [
      "1\n"
     ]
    }
   ],
   "source": [
    "restDiv = age%7"
   ]
  },
  {
   "cell_type": "markdown",
   "metadata": {},
   "source": [
    "**6. Create a variable `expDiv` that contains the value of `restDiv` to the 3rd power**"
   ]
  },
  {
   "cell_type": "code",
   "execution_count": null,
   "metadata": {},
   "outputs": [],
   "source": [
    "expDiv = restDiv*3"
   ]
  },
  {
   "cell_type": "markdown",
   "metadata": {},
   "source": [
    "**7. Write a program that enters an integer and then displays the value entered and its type.**"
   ]
  },
  {
   "cell_type": "code",
   "execution_count": 12,
   "metadata": {},
   "outputs": [
    {
     "name": "stdout",
     "output_type": "stream",
     "text": [
      "<class 'int'>\n"
     ]
    }
   ],
   "source": [
    "x=int(input())\n",
    "print(type(x))"
   ]
  },
  {
   "cell_type": "markdown",
   "metadata": {},
   "source": [
    "**8. Use variables to represent the price of materials.**  \n",
    "- 2 bottles of milk at €0.45 each\n",
    "- 3 bottles of raw cider at €3.85 each\n",
    "- 1 bag of flour at 0.9 €\n",
    "- 1 packet of butter at €0.77\n",
    "- 1 jar of nutella at €1.87  \n",
    "\n",
    "**Calculate the sum of all items and store it in a `orderPrice` variable**"
   ]
  },
  {
   "cell_type": "code",
   "execution_count": 4,
   "metadata": {},
   "outputs": [
    {
     "name": "stdout",
     "output_type": "stream",
     "text": [
      "15.990000000000002\n"
     ]
    }
   ],
   "source": [
    "products_purchased = [0.45*2, 3.85*3, 0.90, 0.77, 1.87]\n",
    "\n",
    "orderPrice= sum(products_purchased)\n",
    "print(orderPrice)\n"
   ]
  },
  {
   "cell_type": "markdown",
   "metadata": {},
   "source": [
    "**Create a variable `allowanceMoney` which has a value of 20 and then create an algorithm that calculates the available money by subtracting the price of the order.**\n",
    "\n",
    "If there is enough money, record the following sentence in the variable `message` and subtract the expense from `allowanceMoney` : \n",
    "- message = \"You have spent\" + `orderPrice` + \"you have left\" + `allowanceMoney` \n",
    "\n",
    "If there is not enough money, record the following sentence in the `message` variable: \n",
    "- message= \"Sorry you're missing *amountMissing* euros\" \n",
    "\n",
    "If there is 0 left, record the following sentence in the `message` variable: \n",
    "- message = \"You are broke!\"\n"
   ]
  },
  {
   "cell_type": "code",
   "execution_count": 8,
   "metadata": {},
   "outputs": [
    {
     "name": "stdout",
     "output_type": "stream",
     "text": [
      "You have spent 15.990000000000002  you have left 4.009999999999998\n"
     ]
    }
   ],
   "source": [
    "allowanceMoney = 20\n",
    "moneyleft = allowanceMoney-orderPrice\n",
    "if allowanceMoney - orderPrice>0:\n",
    "    message = \"You have spent {}  you have left {}\".format(orderPrice,moneyleft)\n",
    "if allowanceMoney - orderPrice<0:\n",
    "    amoutMissing = orderPrice-allowanceMoney\n",
    "    message = \"Sorry you're missing *amountMissing* euros\"\n",
    "if allowanceMoney-orderPrice == 0:\n",
    "    message = \"You are broke\"\n",
    "\n",
    "print(message)\n",
    "\n",
    "\n",
    "# Declare and assign the variable `allowanceMoney`\n",
    "\n",
    "# Then"
   ]
  },
  {
   "cell_type": "markdown",
   "metadata": {},
   "source": [
    "**9. Write a program that asks you to enter 2 values and displays the smallest of the 2 values**"
   ]
  },
  {
   "cell_type": "code",
   "execution_count": null,
   "metadata": {},
   "outputs": [],
   "source": [
    "value1 = input()\n",
    "value2 = input()\n",
    "if value1>value2:\n",
    "    print(value2)\n",
    "else:\n",
    "    print(value1)"
   ]
  },
  {
   "cell_type": "markdown",
   "metadata": {},
   "source": [
    "**10. Write a script that asks you to enter 2 strings and displays the largest of the 2 strings (the one with the most characters).**"
   ]
  },
  {
   "cell_type": "code",
   "execution_count": 9,
   "metadata": {},
   "outputs": [
    {
     "name": "stdout",
     "output_type": "stream",
     "text": [
      "jfisoajgi\n"
     ]
    }
   ],
   "source": [
    "string1 = input(\"Please enter a sentence\")\n",
    "string2 = input(\"Please enter a sentence\")\n",
    "if len(string1)>len(string2):\n",
    "    print(string1)\n",
    "else:\n",
    "    print(string2)"
   ]
  },
  {
   "cell_type": "markdown",
   "metadata": {},
   "source": [
    "**11. Write a script that converts euros into dollars.**\n",
    "- The program will start by asking the user to indicate with a character 'E' or '$' depending on the currency of the amount they are entering.\n",
    "- Then the program will ask you to enter the amount and display the conversion."
   ]
  },
  {
   "cell_type": "code",
   "execution_count": 12,
   "metadata": {},
   "outputs": [
    {
     "name": "stdout",
     "output_type": "stream",
     "text": [
      "10.5\n"
     ]
    }
   ],
   "source": [
    "choose_currency = input(\"please choose E or $\")\n",
    "amount_currency = float(input(\"Please give the amount you want to exchange\"))\n",
    "if choose_currency == \"E\":\n",
    "    exchanged_amount = amount_currency*1.05\n",
    "if choose_currency == \"$\":\n",
    "    exchanged_amount = amount_currency*0.95\n",
    "print(exchanged_amount)\n",
    "\n"
   ]
  },
  {
   "cell_type": "markdown",
   "metadata": {},
   "source": [
    "**12. Check if the variable `name` is in the `studentsTuring` list. (Without making a loop)** \n",
    "* If the name is in the list, display \"You are at the turing's\".\n",
    "* Otherwise display: \"You are not part of the turing's\""
   ]
  },
  {
   "cell_type": "code",
   "execution_count": 14,
   "metadata": {},
   "outputs": [],
   "source": [
    "studentsTuring = [\"Redouane\", \"Justine\", \"Ruben\", \"Edouard\"]\n",
    "name = \"Julie\""
   ]
  },
  {
   "cell_type": "code",
   "execution_count": 15,
   "metadata": {},
   "outputs": [
    {
     "name": "stdout",
     "output_type": "stream",
     "text": [
      "You are not part of the turing's\n"
     ]
    }
   ],
   "source": [
    "# Add your code here\n",
    "\n",
    "if name in studentsTuring:\n",
    "    print(\"You are at the turing's\")\n",
    "else:\n",
    "    print(\"You are not part of the turing's\")"
   ]
  },
  {
   "cell_type": "markdown",
   "metadata": {},
   "source": [
    "**13. Calculate the volume of a sphere using the formula *(4π/3) x R³*. The radius is 10.**  \n",
    "- Save the result in a \"volume\" variable.\n"
   ]
  },
  {
   "cell_type": "code",
   "execution_count": 18,
   "metadata": {},
   "outputs": [
    {
     "name": "stdout",
     "output_type": "stream",
     "text": [
      "4188.790204786391\n"
     ]
    }
   ],
   "source": [
    "import math \n",
    "radius =10\n",
    "volume = (4*(math.pi)/3)*(radius**3)\n",
    "print(volume)"
   ]
  },
  {
   "cell_type": "markdown",
   "metadata": {},
   "source": [
    "## [Ok, you can move here](../5.built-in-functions/built-in-functions.ipynb)"
   ]
  }
 ],
 "metadata": {
  "kernelspec": {
   "display_name": "Python 3",
   "language": "python",
   "name": "python3"
  },
  "language_info": {
   "codemirror_mode": {
    "name": "ipython",
    "version": 3
   },
   "file_extension": ".py",
   "mimetype": "text/x-python",
   "name": "python",
   "nbconvert_exporter": "python",
   "pygments_lexer": "ipython3",
   "version": "3.10.4"
  }
 },
 "nbformat": 4,
 "nbformat_minor": 2
}
