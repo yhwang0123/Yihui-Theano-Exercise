{
 "cells": [
  {
   "cell_type": "markdown",
   "metadata": {},
   "source": [
    "# Basics operators"
   ]
  },
  {
   "cell_type": "markdown",
   "metadata": {},
   "source": [
    "## Arithmetic operators\n",
    "Arithmetic Operators perform various arithmetic calculations like addition, subtraction, multiplication, division, modulus, exponent, etc. There are various methods for arithmetic calculation in Python : you can use the `eval()` function, or declare variables and do the computation, or call functions. "
   ]
  },
  {
   "cell_type": "markdown",
   "metadata": {},
   "source": [
    "<table>\n",
    "\n",
    "<tbody>\n",
    "\n",
    "<tr>\n",
    "\n",
    "<th style=\"text-align:center;width:10%\">Operator</th>\n",
    "\n",
    "<th style=\"text-align:center;width:45%\">Description</th>\n",
    "\n",
    "\n",
    "</tr>\n",
    "\n",
    "<tr>\n",
    "\n",
    "<td>+ Addition</td>\n",
    "\n",
    "<td>Adds values on either side of the operator.</td>\n",
    "\n",
    "</tr>\n",
    "\n",
    "<tr>\n",
    "\n",
    "<td>- Subtraction</td>\n",
    "\n",
    "<td>Subtracts right hand operand from left hand operand.</td>\n",
    "\n",
    "\n",
    "</tr>\n",
    "\n",
    "<tr>\n",
    "\n",
    "<td >* Multiplication</td>\n",
    "\n",
    "<td>Multiplies values on either side of the operator.</td>\n",
    "\n",
    "\n",
    "\n",
    "</tr>\n",
    "\n",
    "<tr>\n",
    "\n",
    "<td>/ Division</td>\n",
    "\n",
    "<td>Divides left hand operand by right hand operand.</td>\n",
    "\n",
    "\n",
    "\n",
    "</tr>\n",
    "\n",
    "<tr>\n",
    "\n",
    "<td>% Modulus</td>\n",
    "\n",
    "<td>Divides left hand operand by right hand operand and returns remainder.</td>\n",
    "\n",
    "\n",
    "\n",
    "</tr>\n",
    "\n",
    "<tr>\n",
    "\n",
    "<td>** Exponent</td>\n",
    "\n",
    "<td>Performs exponential (power) calculation on operator.s</td>\n",
    "\n",
    "\n",
    "\n",
    "</tr>\n",
    "\n",
    "<tr>\n",
    "\n",
    "<td>// Floor division</td>\n",
    "\n",
    "<td>Floor Division - The division of operands where the result is the quotient in which the digits after the decimal point are removed. But if one of the operands is negative, the result is floored, i.e., rounded away from zero (towards negative infinity) −</td>\n",
    "\n",
    "</tr>\n",
    "\n",
    "</tbody>\n",
    "\n",
    "</table>"
   ]
  },
  {
   "cell_type": "markdown",
   "metadata": {},
   "source": [
    "Let's try it. We create two variables and assign two values to them. "
   ]
  },
  {
   "cell_type": "code",
   "execution_count": null,
   "metadata": {},
   "outputs": [],
   "source": [
    "a = 10\n",
    "b = 20"
   ]
  },
  {
   "cell_type": "markdown",
   "metadata": {},
   "source": [
    "**Addition**"
   ]
  },
  {
   "cell_type": "code",
   "execution_count": null,
   "metadata": {},
   "outputs": [],
   "source": [
    "addition = a + b\n",
    "print(addition)"
   ]
  },
  {
   "cell_type": "markdown",
   "metadata": {},
   "source": [
    "**Subtraction**"
   ]
  },
  {
   "cell_type": "code",
   "execution_count": null,
   "metadata": {},
   "outputs": [],
   "source": [
    "substraction = b - a\n",
    "print(substraction)"
   ]
  },
  {
   "cell_type": "markdown",
   "metadata": {},
   "source": [
    "**Multiplication**"
   ]
  },
  {
   "cell_type": "code",
   "execution_count": null,
   "metadata": {},
   "outputs": [],
   "source": [
    "multiplication = a * b\n",
    "print(multiplication)"
   ]
  },
  {
   "cell_type": "markdown",
   "metadata": {},
   "source": [
    "**Division**  \n",
    "Note that in this case, python returns a float."
   ]
  },
  {
   "cell_type": "code",
   "execution_count": null,
   "metadata": {},
   "outputs": [],
   "source": [
    "division = b / a\n",
    "print(division)"
   ]
  },
  {
   "cell_type": "markdown",
   "metadata": {},
   "source": [
    "**Floor division**  \n",
    "To obtain an integer, you can use the floor division operator."
   ]
  },
  {
   "cell_type": "code",
   "execution_count": null,
   "metadata": {},
   "outputs": [],
   "source": [
    "floor_division = b // a\n",
    "floor_division_bis = 31 // 10\n",
    "\n",
    "print(\"floor_division: \", floor_division)\n",
    "print(\"floor_division_bis: \", floor_division_bis)  # Outputs 3, not 3.1"
   ]
  },
  {
   "cell_type": "markdown",
   "metadata": {},
   "source": [
    "**Modulus**  \n",
    "To obtain the rest of a division."
   ]
  },
  {
   "cell_type": "code",
   "execution_count": null,
   "metadata": {},
   "outputs": [],
   "source": [
    "modulus = b % a\n",
    "print(\"modulus :\", modulus)\n",
    "modulus_bis = 21 % 2\n",
    "print(\"modulus_bis :\", modulus_bis)"
   ]
  },
  {
   "cell_type": "markdown",
   "metadata": {},
   "source": [
    "**Exponent**  \n",
    "10 to the power 2"
   ]
  },
  {
   "cell_type": "code",
   "execution_count": null,
   "metadata": {},
   "outputs": [],
   "source": [
    "power_of_two = a ** 2\n",
    "print(power_of_two)"
   ]
  },
  {
   "cell_type": "markdown",
   "metadata": {},
   "source": [
    "### Comparison Operators\n",
    "These operators compare the values on either side of the operands and determine the relation between them. It is also referred as relational operators. Various comparison operators are ( ==, != , <>, >,<=, etc) "
   ]
  },
  {
   "cell_type": "markdown",
   "metadata": {},
   "source": [
    "<table>\n",
    "\n",
    "<tbody>\n",
    "\n",
    "<tr>\n",
    "\n",
    "<th>Operator</th>\n",
    "\n",
    "<th >Description</th>\n",
    "\n",
    "\n",
    "\n",
    "</tr>\n",
    "\n",
    "<tr>\n",
    "\n",
    "<td >==</td>\n",
    "\n",
    "<td>If the values of two operands are equal, then the condition becomes true.</td>\n",
    "\n",
    "</tr>\n",
    "\n",
    "<tr>\n",
    "\n",
    "<td >!=</td>\n",
    "\n",
    "<td>If values of two operands are not equal, then condition becomes true.</td>\n",
    "\n",
    "\n",
    "\n",
    "</tr>\n",
    "\n",
    "<tr>\n",
    "\n",
    "<td ><></td>\n",
    "\n",
    "<td>If values of two operands are not equal, then condition becomes true. It has now been removed in Python 3.</td>\n",
    "\n",
    "\n",
    "\n",
    "</tr>\n",
    "\n",
    "<tr>\n",
    "\n",
    "<td >></td>\n",
    "\n",
    "<td>If the value of left operand is greater than the value of right operand, then condition becomes true.</td>\n",
    "\n",
    "\n",
    "\n",
    "</tr>\n",
    "\n",
    "<tr>\n",
    "\n",
    "<td ><</td>\n",
    "\n",
    "<td>If the value of left operand is less than the value of right operand, then condition becomes true.</td>\n",
    "\n",
    "\n",
    "</tr>\n",
    "\n",
    "<tr>\n",
    "\n",
    "<td >>=</td>\n",
    "\n",
    "<td>If the value of left operand is greater than or equal to the value of right operand, then condition becomes true.</td>\n",
    "\n",
    "\n",
    "</tr>\n",
    "\n",
    "<tr>\n",
    "\n",
    "<td ><=</td>\n",
    "\n",
    "<td>If the value of left operand is less than or equal to the value of right operand, then condition becomes true.</td>\n",
    "\n",
    "\n",
    "</tr>\n",
    "\n",
    "</tbody>\n",
    "\n",
    "</table>\n",
    "\n",
    "\n",
    "Let's try it. We create 2 variables and assign two values to them. "
   ]
  },
  {
   "cell_type": "code",
   "execution_count": null,
   "metadata": {},
   "outputs": [],
   "source": [
    "a = 10\n",
    "b = 20"
   ]
  },
  {
   "cell_type": "markdown",
   "metadata": {},
   "source": [
    "**Equals**"
   ]
  },
  {
   "cell_type": "code",
   "execution_count": null,
   "metadata": {},
   "outputs": [],
   "source": [
    "print(a == b)\n",
    "print(a == 10)"
   ]
  },
  {
   "cell_type": "markdown",
   "metadata": {},
   "source": [
    "**Not equals**"
   ]
  },
  {
   "cell_type": "code",
   "execution_count": null,
   "metadata": {},
   "outputs": [],
   "source": [
    "print(a != b)\n",
    "print(a != 10)"
   ]
  },
  {
   "cell_type": "markdown",
   "metadata": {},
   "source": [
    "**Not equals but `<>` has now been removed in Python 3**  \n",
    "Use `!=`"
   ]
  },
  {
   "cell_type": "code",
   "execution_count": null,
   "metadata": {},
   "outputs": [],
   "source": [
    "print(a <> b)\n",
    "print(a <> 10)"
   ]
  },
  {
   "cell_type": "markdown",
   "metadata": {},
   "source": [
    "**Bigger than**"
   ]
  },
  {
   "cell_type": "code",
   "execution_count": null,
   "metadata": {},
   "outputs": [],
   "source": [
    "print(a > b)\n",
    "print(b > a)"
   ]
  },
  {
   "cell_type": "markdown",
   "metadata": {},
   "source": [
    "**Bigger or equal than**"
   ]
  },
  {
   "cell_type": "code",
   "execution_count": null,
   "metadata": {},
   "outputs": [],
   "source": [
    "print(a >= b)\n",
    "print(b >= a)"
   ]
  },
  {
   "cell_type": "markdown",
   "metadata": {},
   "source": [
    "**Smaller than**"
   ]
  },
  {
   "cell_type": "code",
   "execution_count": null,
   "metadata": {},
   "outputs": [],
   "source": [
    "print(a < b)\n",
    "print(b < a)"
   ]
  },
  {
   "cell_type": "markdown",
   "metadata": {},
   "source": [
    "**Smaller or equal than**"
   ]
  },
  {
   "cell_type": "code",
   "execution_count": null,
   "metadata": {},
   "outputs": [],
   "source": [
    "print(a <= b)\n",
    "print(b <= a)"
   ]
  },
  {
   "cell_type": "markdown",
   "metadata": {},
   "source": [
    "### Assignment Operators\n",
    "Python assignment operators are used for assigning the value of the right operand to the left operand. Various assignment operators used in Python are (+=, - = , *=, /= , etc.) "
   ]
  },
  {
   "cell_type": "markdown",
   "metadata": {},
   "source": [
    "<table>\n",
    "\n",
    "<tbody>\n",
    "\n",
    "<tr>\n",
    "\n",
    "<th style=\"text-align:center;width:10%\">Operator</th>\n",
    "\n",
    "<th style=\"text-align:center;width:45%\">Description</th>\n",
    "\n",
    "\n",
    "\n",
    "</tr>\n",
    "\n",
    "<tr>\n",
    "\n",
    "<td >=</td>\n",
    "\n",
    "<td>Assigns values from right side operands to left side operand.</td>\n",
    "\n",
    "\n",
    "</tr>\n",
    "\n",
    "<tr>\n",
    "\n",
    "<td >+= Add AND</td>\n",
    "\n",
    "<td>It adds right operand to the left operand and assign the result to left operand.</td>\n",
    "\n",
    "\n",
    "</tr>\n",
    "\n",
    "<tr>\n",
    "\n",
    "<td >-= Subtract AND</td>\n",
    "\n",
    "<td>It subtracts right operand from the left operand and assign the result to left operand.</td>\n",
    "\n",
    "\n",
    "\n",
    "</tr>\n",
    "\n",
    "<tr>\n",
    "\n",
    "<td >*= Multiply AND</td>\n",
    "\n",
    "<td>It multiplies right operand with the left operand and assign the result to left operand.</td>\n",
    "\n",
    "\n",
    "</tr>\n",
    "\n",
    "<tr>\n",
    "\n",
    "<td >/= Divide AND</td>\n",
    "\n",
    "<td>It divides left operand with the right operand and assign the result to left operand.</td>\n",
    "\n",
    "\n",
    "</tr>\n",
    "\n",
    "<tr>\n",
    "\n",
    "<td>%= Modulus AND</td>\n",
    "\n",
    "<td>It takes modulus using two operands and assign the result to left operand.</td>\n",
    "\n",
    "\n",
    "\n",
    "</tr>\n",
    "\n",
    "<tr>\n",
    "\n",
    "<td>**= Exponent AND</td>\n",
    "\n",
    "<td>Performs exponential (power) calculation on operators and assign value to the left operand.</td>\n",
    "\n",
    "\n",
    "</tr>\n",
    "\n",
    "<tr>\n",
    "\n",
    "<td >//= Floor Division</td>\n",
    "\n",
    "<td>It performs floor division on operators and assign value to the left operand.</td>\n",
    "\n",
    "\n",
    "\n",
    "</tr>\n",
    "\n",
    "</tbody>\n",
    "\n",
    "</table>"
   ]
  },
  {
   "cell_type": "markdown",
   "metadata": {},
   "source": [
    "**Assignment**"
   ]
  },
  {
   "cell_type": "code",
   "execution_count": null,
   "metadata": {},
   "outputs": [],
   "source": [
    "a = 10\n",
    "name = \"Alan Turing\"\n",
    "print(a)\n",
    "print(name)"
   ]
  },
  {
   "cell_type": "markdown",
   "metadata": {},
   "source": [
    "**Add AND** (`+=`)"
   ]
  },
  {
   "cell_type": "code",
   "execution_count": null,
   "metadata": {},
   "outputs": [],
   "source": [
    "a += 10\n",
    "name += \" is a good mathematician\"\n",
    "print(a)\n",
    "print(name)"
   ]
  },
  {
   "cell_type": "markdown",
   "metadata": {},
   "source": [
    "**❗ But beware, we can only add variables of the same type**  \n",
    "The variable `a` is of type integer and the variable `name` is of type string."
   ]
  },
  {
   "cell_type": "code",
   "execution_count": null,
   "metadata": {},
   "outputs": [],
   "source": [
    "name += a  # It's the same as `name = name + a`"
   ]
  },
  {
   "cell_type": "code",
   "execution_count": null,
   "metadata": {},
   "outputs": [],
   "source": [
    "a += name  # It's the same as `a = a + name`"
   ]
  },
  {
   "cell_type": "markdown",
   "metadata": {},
   "source": [
    "**Subtract AND** (`-=`)"
   ]
  },
  {
   "cell_type": "code",
   "execution_count": null,
   "metadata": {},
   "outputs": [],
   "source": [
    "a = 20\n",
    "a -= 10\n",
    "print(a)"
   ]
  },
  {
   "cell_type": "markdown",
   "metadata": {},
   "source": [
    "This operator does not work with strings, unlike the `+=` operator."
   ]
  },
  {
   "cell_type": "code",
   "execution_count": null,
   "metadata": {},
   "outputs": [],
   "source": [
    "name -= \"Alan Turing\""
   ]
  },
  {
   "cell_type": "markdown",
   "metadata": {},
   "source": [
    "**Multiply AND** (`*=`)  \n",
    "This operator works with strings."
   ]
  },
  {
   "cell_type": "code",
   "execution_count": null,
   "metadata": {},
   "outputs": [],
   "source": [
    "a = 10\n",
    "a *= 10\n",
    "print(a)\n",
    "\n",
    "text = \"Alan Turing\"\n",
    "text *= 10\n",
    "print(text)"
   ]
  },
  {
   "cell_type": "markdown",
   "metadata": {},
   "source": [
    "**Divide AND** (`/=`)"
   ]
  },
  {
   "cell_type": "code",
   "execution_count": null,
   "metadata": {},
   "outputs": [],
   "source": [
    "a = 100\n",
    "a /= 10\n",
    "print(a)"
   ]
  },
  {
   "cell_type": "markdown",
   "metadata": {},
   "source": [
    "This operator does not work with strings, unlike the `*=` operator.  \n",
    "Note that in this case, Python returns a float."
   ]
  },
  {
   "cell_type": "markdown",
   "metadata": {},
   "source": [
    "**Modulus AND** (`=`)"
   ]
  },
  {
   "cell_type": "code",
   "execution_count": null,
   "metadata": {},
   "outputs": [],
   "source": [
    "a = 100\n",
    "a %= 3\n",
    "print(a)"
   ]
  },
  {
   "cell_type": "markdown",
   "metadata": {},
   "source": [
    "This operator does not work with strings."
   ]
  },
  {
   "cell_type": "markdown",
   "metadata": {},
   "source": [
    "**Exponent AND** (`**=`)"
   ]
  },
  {
   "cell_type": "code",
   "execution_count": null,
   "metadata": {},
   "outputs": [],
   "source": [
    "a = 2\n",
    "a **= 3  # ( 2 * 2 * 2)\n",
    "print(a)"
   ]
  },
  {
   "cell_type": "markdown",
   "metadata": {},
   "source": [
    "This operator does not works with character strings."
   ]
  },
  {
   "cell_type": "markdown",
   "metadata": {},
   "source": [
    "**Floor Division AND** (`//=`)"
   ]
  },
  {
   "cell_type": "code",
   "execution_count": null,
   "metadata": {},
   "outputs": [],
   "source": [
    "a = 20\n",
    "a //= 3\n",
    "print(a)"
   ]
  },
  {
   "cell_type": "markdown",
   "metadata": {},
   "source": [
    "This operator does not work with strings."
   ]
  },
  {
   "cell_type": "markdown",
   "metadata": {},
   "source": [
    "## [Next one](../4.conditions-and-other-operators/conditions-and-other-operators.ipynb)"
   ]
  }
 ],
 "metadata": {
  "kernelspec": {
   "display_name": "Python 3",
   "language": "python",
   "name": "python3"
  },
  "language_info": {
   "codemirror_mode": {
    "name": "ipython"
   },
   "file_extension": ".py",
   "mimetype": "text/x-python",
   "name": "python",
   "nbconvert_exporter": "python"
  }
 },
 "nbformat": 4,
 "nbformat_minor": 2
}
