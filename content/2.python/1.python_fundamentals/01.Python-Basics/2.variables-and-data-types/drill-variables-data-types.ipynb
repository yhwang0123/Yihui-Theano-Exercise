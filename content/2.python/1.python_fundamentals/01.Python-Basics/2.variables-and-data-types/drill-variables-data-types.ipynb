{
 "cells": [
  {
   "cell_type": "markdown",
   "metadata": {},
   "source": [
    "**1. Create a variable `name` that contains the value `\"Alan Turing\"`.**"
   ]
  },
  {
   "cell_type": "code",
   "execution_count": 10,
   "metadata": {},
   "outputs": [],
   "source": [
    "name = \"Alan Turing\""
   ]
  },
  {
   "cell_type": "markdown",
   "metadata": {},
   "source": [
    "**2. Create a variable `age` that contains the value 42.**"
   ]
  },
  {
   "cell_type": "code",
   "execution_count": 11,
   "metadata": {},
   "outputs": [],
   "source": [
    "age = 42"
   ]
  },
  {
   "cell_type": "markdown",
   "metadata": {},
   "source": [
    "**3. Create a variable `person` that contains a list with the following values: `name`, `age` and `\"mathematician\"`**"
   ]
  },
  {
   "cell_type": "code",
   "execution_count": 12,
   "metadata": {},
   "outputs": [],
   "source": [
    "person = [name, age, \"mathematician\"]"
   ]
  },
  {
   "cell_type": "markdown",
   "metadata": {},
   "source": [
    "**4. Create a variable `text` that contains `\"Hello, my name is Alan Turing, I am 42 years old and I am a mathematician.\"`\n",
    "Use the `format()` method and the variable `person`  to do this.**"
   ]
  },
  {
   "cell_type": "code",
   "execution_count": 13,
   "metadata": {},
   "outputs": [
    {
     "name": "stdout",
     "output_type": "stream",
     "text": [
      "Hello, my name is Alan Turing, I am 42 years old and I am a mathematician.\n"
     ]
    }
   ],
   "source": [
    "text = \"Hello, my name is {}, I am {} years old and I am a mathematician.\".format(name, age)\n",
    "print(text)"
   ]
  },
  {
   "cell_type": "markdown",
   "metadata": {},
   "source": [
    "**5. Create a variable `age_type` that contains the type of the `age` variable.**"
   ]
  },
  {
   "cell_type": "code",
   "execution_count": 14,
   "metadata": {},
   "outputs": [],
   "source": [
    "age_type= type(age)"
   ]
  },
  {
   "cell_type": "markdown",
   "metadata": {},
   "source": [
    "## Testing\n",
    "\n",
    "\n",
    "The following piece of code is to test that you have correctly done the above exercises.\n",
    "If it fails, it means that some of your code is not correct. Read the error messages of each test carefully.\n",
    "\n",
    "If the syntax of the code below is confusing (`class`,`self`, etc...), don't worry, you will see it soon. The only thing you should know is that the method `assertEqual` checks if the right argument matches the left one, e.g. for `assertEqual(name, \"Alan Turing\")` it checks that `name` is equal to `\"Alan Turing\"`.\n",
    "\n",
    "Every good developer tests his code. So we're going to get the right habits now. Do not change the code, execute it."
   ]
  },
  {
   "cell_type": "code",
   "execution_count": 16,
   "metadata": {},
   "outputs": [
    {
     "name": "stderr",
     "output_type": "stream",
     "text": [
      "test_age (__main__.TestNotebook) ... ok\n",
      "test_name (__main__.TestNotebook) ... ok\n",
      "test_person (__main__.TestNotebook) ... ok\n",
      "test_text (__main__.TestNotebook) ... ok\n",
      "test_type (__main__.TestNotebook) ... ok\n",
      "\n",
      "----------------------------------------------------------------------\n",
      "Ran 5 tests in 0.020s\n",
      "\n",
      "OK\n"
     ]
    },
    {
     "data": {
      "text/plain": [
       "<unittest.main.TestProgram at 0x107a2a2c0>"
      ]
     },
     "execution_count": 16,
     "metadata": {},
     "output_type": "execute_result"
    }
   ],
   "source": [
    "import unittest\n",
    "\n",
    "\n",
    "class TestNotebook(unittest.TestCase):\n",
    "    def test_name(self):\n",
    "        self.assertEqual(name, \"Alan Turing\")\n",
    "\n",
    "    def test_age(self):\n",
    "        self.assertEqual(age, 42)\n",
    "\n",
    "    def test_person(self):\n",
    "        self.assertEqual(person, [\"Alan Turing\", 42, \"mathematician\"])\n",
    "\n",
    "    def test_text(self):\n",
    "        self.assertEqual(\n",
    "            text,\n",
    "            \"Hello, my name is Alan Turing, I am 42 years old and I am a mathematician.\",\n",
    "        )\n",
    "\n",
    "    def test_type(self):\n",
    "        self.assertEqual(age_type, int)\n",
    "\n",
    "\n",
    "unittest.main(argv=[\"\"], verbosity=2, exit=False)"
   ]
  },
  {
   "cell_type": "markdown",
   "metadata": {},
   "source": [
    "## [Is everything okay? Well, you can move on.](../3.basics-operators/basics-operators.ipynb)"
   ]
  }
 ],
 "metadata": {
  "kernelspec": {
   "display_name": "Python 3",
   "language": "python",
   "name": "python3"
  },
  "language_info": {
   "codemirror_mode": {
    "name": "ipython",
    "version": 3
   },
   "file_extension": ".py",
   "mimetype": "text/x-python",
   "name": "python",
   "nbconvert_exporter": "python",
   "pygments_lexer": "ipython3",
   "version": "3.10.4"
  }
 },
 "nbformat": 4,
 "nbformat_minor": 2
}
