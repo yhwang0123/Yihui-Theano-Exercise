{
 "cells": [
  {
   "cell_type": "markdown",
   "metadata": {},
   "source": [
    "## Remember this, with Python, everything is object\n",
    "\n",
    "Let's look at the type of data."
   ]
  },
  {
   "cell_type": "code",
   "execution_count": 21,
   "metadata": {},
   "outputs": [
    {
     "name": "stdout",
     "output_type": "stream",
     "text": [
      "James <class 'str'>\n",
      "Bond <class 'str'>\n",
      "39 <class 'int'>\n",
      "81.56 <class 'float'>\n",
      "['James', 'Bond', 39, 81.56, True, '007'] <class 'list'>\n"
     ]
    }
   ],
   "source": [
    "first_name = \"James\"\n",
    "last_name = \"Bond\"\n",
    "age = 39\n",
    "weigth = 81.56\n",
    "double_agent = True\n",
    "login = \"007\"\n",
    "agent = [first_name, last_name, age, weigth, double_agent, login]\n",
    "\n",
    "print(first_name, type(first_name))\n",
    "print(last_name, type(last_name))\n",
    "print(age, type(age))\n",
    "print(weigth, type(weigth))\n",
    "print(agent, type(agent))"
   ]
  },
  {
   "cell_type": "markdown",
   "metadata": {},
   "source": [
    "Look when you check the data type, you can see that there is the word class in front of all types. The `str` type is a class (so an object), but also integers, float, etc. Everything in Python is an object! \n",
    "\n",
    "This implies that each object has methods and attributes, and you already know some!\n",
    "Imagine that we want to capitalize the first letter of a string. There is already a **method** for this in the `str` class. This is the `capitalize()` method"
   ]
  },
  {
   "cell_type": "code",
   "execution_count": 22,
   "metadata": {},
   "outputs": [
    {
     "name": "stdout",
     "output_type": "stream",
     "text": [
      "Hello, and welcome to my world.\n"
     ]
    }
   ],
   "source": [
    "text = \"hello, and welcome to my world.\"\n",
    "capitalize_text = text.capitalize()\n",
    "print(capitalize_text)"
   ]
  },
  {
   "cell_type": "markdown",
   "metadata": {},
   "source": [
    "`capitalize()` is a method of the string object."
   ]
  },
  {
   "cell_type": "markdown",
   "metadata": {},
   "source": [
    "We will explore this subject further along the way."
   ]
  },
  {
   "cell_type": "markdown",
   "metadata": {},
   "source": [
    "❗ Although Python is object-oriented, it allows you to write in procedural mode. And for now, we're going to do procedural programming, but very quickly, we will do object-oriented programming."
   ]
  },
  {
   "cell_type": "markdown",
   "metadata": {},
   "source": [
    "## Mutable vs Immutable Objects "
   ]
  },
  {
   "cell_type": "markdown",
   "metadata": {},
   "source": [
    "In most object-oriented languages, objects are manipulated by references. This means that when you create an object, an ID is assigned to it. This ID is not the object itself but refers to the location of the object in the memory. This is the case, for example, of Java, class objects of C# and Swift (unlike objects of type struct), Python, JavaScript and Ruby. In this case, the fact that the state of an object shared by reference may or may not be modified is important.\n",
    "\n",
    "When an object is considered immutable, a copy can be obtained by simply duplicating its reference, instead of copying the entire object. Since a reference (which usually stores only the size of a pointer) is usually much smaller than the object itself, this technique both saves memory and improves the speed of execution.\n",
    "\n",
    "The reference copying technique is much more complex to use for variable objects, because if any element using the reference to a variable object modifies it, the modification will become visible to all other elements using the reference.\n",
    "\n",
    "The technique of always using references instead of copies of identical immutable objects, storing their value only once in memory, is called \"interning\". In this context, two objects are considered equal if and only if their references, typically represented by integers, are equal.\n",
    "\n",
    "In Python language, the types bool, tuple, str, bytes, frozenset, range are immutable, as well as the numerical types int, float and complex. The list is not exhaustive.\n",
    "\n",
    "Tuple objects are immutable lists of heterogeneous objects in Python. We can see the tuple type as the immutable counterpart of the list, and frozenset as the immutable counterpart of the set. Contrary to what we observe for example in Ruby language, strings (str) are immutable. Bit strings (bytes) also, but there is a variable bytearray type. \n",
    "\n",
    "Let's look at this with a practical case."
   ]
  },
  {
   "cell_type": "markdown",
   "metadata": {},
   "source": [
    "#### We will create an immutable object with the class int.\n",
    "*(`id()` is a native python function that allows you to know the reference of the object. It is expressed as an integer)*. "
   ]
  },
  {
   "cell_type": "code",
   "execution_count": 23,
   "metadata": {},
   "outputs": [
    {
     "name": "stdout",
     "output_type": "stream",
     "text": [
      "4318265872 4318265872\n",
      "True\n"
     ]
    }
   ],
   "source": [
    "x = 10  # Creating the int() instance\n",
    "y = 10\n",
    "print(id(x), id(y))\n",
    "print(x is y)  # comparing the types"
   ]
  },
  {
   "cell_type": "markdown",
   "metadata": {},
   "source": [
    "It can be seen here that both the `x` and `y` variables point to the same reference. Now, let's change the value of `x`."
   ]
  },
  {
   "cell_type": "code",
   "execution_count": 24,
   "metadata": {},
   "outputs": [
    {
     "name": "stdout",
     "output_type": "stream",
     "text": [
      "4318265904 4318265872\n",
      "False\n"
     ]
    }
   ],
   "source": [
    "x += 1\n",
    "print(id(x), id(y))\n",
    "print(x is y)  # comparing the types"
   ]
  },
  {
   "cell_type": "markdown",
   "metadata": {},
   "source": [
    "This time we see that the variable no longer points to the same reference. \n",
    "#### Now we will create a mutable object with the `List` class."
   ]
  },
  {
   "cell_type": "code",
   "execution_count": 25,
   "metadata": {},
   "outputs": [
    {
     "name": "stdout",
     "output_type": "stream",
     "text": [
      "4371839872 4371839872\n"
     ]
    }
   ],
   "source": [
    "person = [\"James\", \"Bond\", \"007\", \"Secret agent\"]\n",
    "person_copy = person\n",
    "print(id(person), id(person_copy))"
   ]
  },
  {
   "cell_type": "markdown",
   "metadata": {},
   "source": [
    "Let's modify both lists."
   ]
  },
  {
   "cell_type": "code",
   "execution_count": 26,
   "metadata": {},
   "outputs": [
    {
     "name": "stdout",
     "output_type": "stream",
     "text": [
      "4371839872 4371839872\n",
      "['James', 'Bond', '007', 'Secret agent', 'English', 'Man'] ['James', 'Bond', '007', 'Secret agent', 'English', 'Man']\n"
     ]
    }
   ],
   "source": [
    "person += [\"English\"]\n",
    "person_copy += [\"Man\"]\n",
    "print(id(person), id(person_copy))\n",
    "print(person, person_copy)"
   ]
  },
  {
   "cell_type": "markdown",
   "metadata": {},
   "source": [
    "This time you can see: \n",
    "1. Despite the changes made in `person`, the references do not change.\n",
    "2. The changes affect both the variable `person` and the variable `person_copy`.\n",
    "\n",
    "So we understand the consequences that this could have. It is therefore very useful to know if you are handling a mutable or immutable object. "
   ]
  },
  {
   "cell_type": "markdown",
   "metadata": {},
   "source": [
    "## [Next One](../9.functions/functions.ipynb)"
   ]
  }
 ],
 "metadata": {
  "kernelspec": {
   "display_name": "Python 3",
   "language": "python",
   "name": "python3"
  },
  "language_info": {
   "codemirror_mode": {
    "name": "ipython",
    "version": 3
   },
   "file_extension": ".py",
   "mimetype": "text/x-python",
   "name": "python",
   "nbconvert_exporter": "python",
   "pygments_lexer": "ipython3",
   "version": "3.10.4"
  }
 },
 "nbformat": 4,
 "nbformat_minor": 2
}
